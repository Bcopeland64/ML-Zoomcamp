{
 "cells": [
  {
   "cell_type": "code",
   "execution_count": 1,
   "metadata": {},
   "outputs": [],
   "source": [
    "import pandas as pd\n",
    "import numpy as np\n"
   ]
  },
  {
   "cell_type": "code",
   "execution_count": 2,
   "metadata": {},
   "outputs": [],
   "source": [
    "data = 'https://raw.githubusercontent.com/alexeygrigorev/datasets/master/housing.csv'"
   ]
  },
  {
   "cell_type": "code",
   "execution_count": 3,
   "metadata": {},
   "outputs": [
    {
     "name": "stdout",
     "output_type": "stream",
     "text": [
      "--2023-09-24 19:43:18--  https://raw.githubusercontent.com/alexeygrigorev/datasets/master/housing.csv\n",
      "Resolving raw.githubusercontent.com (raw.githubusercontent.com)... 185.199.110.133, 185.199.108.133, 185.199.111.133, ...\n",
      "Connecting to raw.githubusercontent.com (raw.githubusercontent.com)|185.199.110.133|:443... connected.\n",
      "HTTP request sent, awaiting response... 200 OK\n",
      "Length: 1423529 (1.4M) [text/plain]\n",
      "Saving to: ‘housing.csv.1’\n",
      "\n",
      "housing.csv.1       100%[===================>]   1.36M   622KB/s    in 2.2s    \n",
      "\n",
      "2023-09-24 19:43:21 (622 KB/s) - ‘housing.csv.1’ saved [1423529/1423529]\n",
      "\n"
     ]
    }
   ],
   "source": [
    "!wget $data"
   ]
  },
  {
   "cell_type": "code",
   "execution_count": 4,
   "metadata": {},
   "outputs": [],
   "source": [
    "df = pd.read_csv('housing.csv')"
   ]
  },
  {
   "cell_type": "code",
   "execution_count": 5,
   "metadata": {},
   "outputs": [
    {
     "data": {
      "text/html": [
       "<div>\n",
       "<style scoped>\n",
       "    .dataframe tbody tr th:only-of-type {\n",
       "        vertical-align: middle;\n",
       "    }\n",
       "\n",
       "    .dataframe tbody tr th {\n",
       "        vertical-align: top;\n",
       "    }\n",
       "\n",
       "    .dataframe thead th {\n",
       "        text-align: right;\n",
       "    }\n",
       "</style>\n",
       "<table border=\"1\" class=\"dataframe\">\n",
       "  <thead>\n",
       "    <tr style=\"text-align: right;\">\n",
       "      <th></th>\n",
       "      <th>longitude</th>\n",
       "      <th>latitude</th>\n",
       "      <th>housing_median_age</th>\n",
       "      <th>total_rooms</th>\n",
       "      <th>total_bedrooms</th>\n",
       "      <th>population</th>\n",
       "      <th>households</th>\n",
       "      <th>median_income</th>\n",
       "      <th>median_house_value</th>\n",
       "      <th>ocean_proximity</th>\n",
       "    </tr>\n",
       "  </thead>\n",
       "  <tbody>\n",
       "    <tr>\n",
       "      <th>0</th>\n",
       "      <td>-122.23</td>\n",
       "      <td>37.88</td>\n",
       "      <td>41.0</td>\n",
       "      <td>880.0</td>\n",
       "      <td>129.0</td>\n",
       "      <td>322.0</td>\n",
       "      <td>126.0</td>\n",
       "      <td>8.3252</td>\n",
       "      <td>452600.0</td>\n",
       "      <td>NEAR BAY</td>\n",
       "    </tr>\n",
       "    <tr>\n",
       "      <th>1</th>\n",
       "      <td>-122.22</td>\n",
       "      <td>37.86</td>\n",
       "      <td>21.0</td>\n",
       "      <td>7099.0</td>\n",
       "      <td>1106.0</td>\n",
       "      <td>2401.0</td>\n",
       "      <td>1138.0</td>\n",
       "      <td>8.3014</td>\n",
       "      <td>358500.0</td>\n",
       "      <td>NEAR BAY</td>\n",
       "    </tr>\n",
       "    <tr>\n",
       "      <th>2</th>\n",
       "      <td>-122.24</td>\n",
       "      <td>37.85</td>\n",
       "      <td>52.0</td>\n",
       "      <td>1467.0</td>\n",
       "      <td>190.0</td>\n",
       "      <td>496.0</td>\n",
       "      <td>177.0</td>\n",
       "      <td>7.2574</td>\n",
       "      <td>352100.0</td>\n",
       "      <td>NEAR BAY</td>\n",
       "    </tr>\n",
       "    <tr>\n",
       "      <th>3</th>\n",
       "      <td>-122.25</td>\n",
       "      <td>37.85</td>\n",
       "      <td>52.0</td>\n",
       "      <td>1274.0</td>\n",
       "      <td>235.0</td>\n",
       "      <td>558.0</td>\n",
       "      <td>219.0</td>\n",
       "      <td>5.6431</td>\n",
       "      <td>341300.0</td>\n",
       "      <td>NEAR BAY</td>\n",
       "    </tr>\n",
       "    <tr>\n",
       "      <th>4</th>\n",
       "      <td>-122.25</td>\n",
       "      <td>37.85</td>\n",
       "      <td>52.0</td>\n",
       "      <td>1627.0</td>\n",
       "      <td>280.0</td>\n",
       "      <td>565.0</td>\n",
       "      <td>259.0</td>\n",
       "      <td>3.8462</td>\n",
       "      <td>342200.0</td>\n",
       "      <td>NEAR BAY</td>\n",
       "    </tr>\n",
       "  </tbody>\n",
       "</table>\n",
       "</div>"
      ],
      "text/plain": [
       "   longitude  latitude  housing_median_age  total_rooms  total_bedrooms  \\\n",
       "0    -122.23     37.88                41.0        880.0           129.0   \n",
       "1    -122.22     37.86                21.0       7099.0          1106.0   \n",
       "2    -122.24     37.85                52.0       1467.0           190.0   \n",
       "3    -122.25     37.85                52.0       1274.0           235.0   \n",
       "4    -122.25     37.85                52.0       1627.0           280.0   \n",
       "\n",
       "   population  households  median_income  median_house_value ocean_proximity  \n",
       "0       322.0       126.0         8.3252            452600.0        NEAR BAY  \n",
       "1      2401.0      1138.0         8.3014            358500.0        NEAR BAY  \n",
       "2       496.0       177.0         7.2574            352100.0        NEAR BAY  \n",
       "3       558.0       219.0         5.6431            341300.0        NEAR BAY  \n",
       "4       565.0       259.0         3.8462            342200.0        NEAR BAY  "
      ]
     },
     "execution_count": 5,
     "metadata": {},
     "output_type": "execute_result"
    }
   ],
   "source": [
    "df.head()"
   ]
  },
  {
   "cell_type": "code",
   "execution_count": 6,
   "metadata": {},
   "outputs": [
    {
     "name": "stdout",
     "output_type": "stream",
     "text": [
      "<class 'pandas.core.frame.DataFrame'>\n",
      "RangeIndex: 20640 entries, 0 to 20639\n",
      "Data columns (total 10 columns):\n",
      " #   Column              Non-Null Count  Dtype  \n",
      "---  ------              --------------  -----  \n",
      " 0   longitude           20640 non-null  float64\n",
      " 1   latitude            20640 non-null  float64\n",
      " 2   housing_median_age  20640 non-null  float64\n",
      " 3   total_rooms         20640 non-null  float64\n",
      " 4   total_bedrooms      20433 non-null  float64\n",
      " 5   population          20640 non-null  float64\n",
      " 6   households          20640 non-null  float64\n",
      " 7   median_income       20640 non-null  float64\n",
      " 8   median_house_value  20640 non-null  float64\n",
      " 9   ocean_proximity     20640 non-null  object \n",
      "dtypes: float64(9), object(1)\n",
      "memory usage: 1.6+ MB\n"
     ]
    }
   ],
   "source": [
    "df.info()"
   ]
  },
  {
   "cell_type": "code",
   "execution_count": 7,
   "metadata": {},
   "outputs": [
    {
     "data": {
      "text/plain": [
       "Index(['longitude', 'latitude', 'housing_median_age', 'total_rooms',\n",
       "       'total_bedrooms', 'population', 'households', 'median_income',\n",
       "       'median_house_value', 'ocean_proximity'],\n",
       "      dtype='object')"
      ]
     },
     "execution_count": 7,
     "metadata": {},
     "output_type": "execute_result"
    }
   ],
   "source": [
    "df.columns"
   ]
  },
  {
   "cell_type": "code",
   "execution_count": 8,
   "metadata": {},
   "outputs": [],
   "source": [
    "columns_list = list(df.columns)"
   ]
  },
  {
   "cell_type": "code",
   "execution_count": 9,
   "metadata": {},
   "outputs": [
    {
     "data": {
      "text/plain": [
       "['longitude',\n",
       " 'latitude',\n",
       " 'housing_median_age',\n",
       " 'total_rooms',\n",
       " 'total_bedrooms',\n",
       " 'population',\n",
       " 'households',\n",
       " 'median_income',\n",
       " 'median_house_value',\n",
       " 'ocean_proximity']"
      ]
     },
     "execution_count": 9,
     "metadata": {},
     "output_type": "execute_result"
    }
   ],
   "source": [
    "columns_list"
   ]
  },
  {
   "cell_type": "code",
   "execution_count": 10,
   "metadata": {},
   "outputs": [
    {
     "data": {
      "text/html": [
       "<div>\n",
       "<style scoped>\n",
       "    .dataframe tbody tr th:only-of-type {\n",
       "        vertical-align: middle;\n",
       "    }\n",
       "\n",
       "    .dataframe tbody tr th {\n",
       "        vertical-align: top;\n",
       "    }\n",
       "\n",
       "    .dataframe thead th {\n",
       "        text-align: right;\n",
       "    }\n",
       "</style>\n",
       "<table border=\"1\" class=\"dataframe\">\n",
       "  <thead>\n",
       "    <tr style=\"text-align: right;\">\n",
       "      <th></th>\n",
       "      <th>longitude</th>\n",
       "      <th>latitude</th>\n",
       "      <th>housing_median_age</th>\n",
       "      <th>total_rooms</th>\n",
       "      <th>total_bedrooms</th>\n",
       "      <th>population</th>\n",
       "      <th>households</th>\n",
       "      <th>median_income</th>\n",
       "      <th>median_house_value</th>\n",
       "    </tr>\n",
       "  </thead>\n",
       "  <tbody>\n",
       "    <tr>\n",
       "      <th>count</th>\n",
       "      <td>20640.000000</td>\n",
       "      <td>20640.000000</td>\n",
       "      <td>20640.000000</td>\n",
       "      <td>20640.000000</td>\n",
       "      <td>20433.000000</td>\n",
       "      <td>20640.000000</td>\n",
       "      <td>20640.000000</td>\n",
       "      <td>20640.000000</td>\n",
       "      <td>20640.000000</td>\n",
       "    </tr>\n",
       "    <tr>\n",
       "      <th>mean</th>\n",
       "      <td>-119.569704</td>\n",
       "      <td>35.631861</td>\n",
       "      <td>28.639486</td>\n",
       "      <td>2635.763081</td>\n",
       "      <td>537.870553</td>\n",
       "      <td>1425.476744</td>\n",
       "      <td>499.539680</td>\n",
       "      <td>3.870671</td>\n",
       "      <td>206855.816909</td>\n",
       "    </tr>\n",
       "    <tr>\n",
       "      <th>std</th>\n",
       "      <td>2.003532</td>\n",
       "      <td>2.135952</td>\n",
       "      <td>12.585558</td>\n",
       "      <td>2181.615252</td>\n",
       "      <td>421.385070</td>\n",
       "      <td>1132.462122</td>\n",
       "      <td>382.329753</td>\n",
       "      <td>1.899822</td>\n",
       "      <td>115395.615874</td>\n",
       "    </tr>\n",
       "    <tr>\n",
       "      <th>min</th>\n",
       "      <td>-124.350000</td>\n",
       "      <td>32.540000</td>\n",
       "      <td>1.000000</td>\n",
       "      <td>2.000000</td>\n",
       "      <td>1.000000</td>\n",
       "      <td>3.000000</td>\n",
       "      <td>1.000000</td>\n",
       "      <td>0.499900</td>\n",
       "      <td>14999.000000</td>\n",
       "    </tr>\n",
       "    <tr>\n",
       "      <th>25%</th>\n",
       "      <td>-121.800000</td>\n",
       "      <td>33.930000</td>\n",
       "      <td>18.000000</td>\n",
       "      <td>1447.750000</td>\n",
       "      <td>296.000000</td>\n",
       "      <td>787.000000</td>\n",
       "      <td>280.000000</td>\n",
       "      <td>2.563400</td>\n",
       "      <td>119600.000000</td>\n",
       "    </tr>\n",
       "    <tr>\n",
       "      <th>50%</th>\n",
       "      <td>-118.490000</td>\n",
       "      <td>34.260000</td>\n",
       "      <td>29.000000</td>\n",
       "      <td>2127.000000</td>\n",
       "      <td>435.000000</td>\n",
       "      <td>1166.000000</td>\n",
       "      <td>409.000000</td>\n",
       "      <td>3.534800</td>\n",
       "      <td>179700.000000</td>\n",
       "    </tr>\n",
       "    <tr>\n",
       "      <th>75%</th>\n",
       "      <td>-118.010000</td>\n",
       "      <td>37.710000</td>\n",
       "      <td>37.000000</td>\n",
       "      <td>3148.000000</td>\n",
       "      <td>647.000000</td>\n",
       "      <td>1725.000000</td>\n",
       "      <td>605.000000</td>\n",
       "      <td>4.743250</td>\n",
       "      <td>264725.000000</td>\n",
       "    </tr>\n",
       "    <tr>\n",
       "      <th>max</th>\n",
       "      <td>-114.310000</td>\n",
       "      <td>41.950000</td>\n",
       "      <td>52.000000</td>\n",
       "      <td>39320.000000</td>\n",
       "      <td>6445.000000</td>\n",
       "      <td>35682.000000</td>\n",
       "      <td>6082.000000</td>\n",
       "      <td>15.000100</td>\n",
       "      <td>500001.000000</td>\n",
       "    </tr>\n",
       "  </tbody>\n",
       "</table>\n",
       "</div>"
      ],
      "text/plain": [
       "          longitude      latitude  housing_median_age   total_rooms  \\\n",
       "count  20640.000000  20640.000000        20640.000000  20640.000000   \n",
       "mean    -119.569704     35.631861           28.639486   2635.763081   \n",
       "std        2.003532      2.135952           12.585558   2181.615252   \n",
       "min     -124.350000     32.540000            1.000000      2.000000   \n",
       "25%     -121.800000     33.930000           18.000000   1447.750000   \n",
       "50%     -118.490000     34.260000           29.000000   2127.000000   \n",
       "75%     -118.010000     37.710000           37.000000   3148.000000   \n",
       "max     -114.310000     41.950000           52.000000  39320.000000   \n",
       "\n",
       "       total_bedrooms    population    households  median_income  \\\n",
       "count    20433.000000  20640.000000  20640.000000   20640.000000   \n",
       "mean       537.870553   1425.476744    499.539680       3.870671   \n",
       "std        421.385070   1132.462122    382.329753       1.899822   \n",
       "min          1.000000      3.000000      1.000000       0.499900   \n",
       "25%        296.000000    787.000000    280.000000       2.563400   \n",
       "50%        435.000000   1166.000000    409.000000       3.534800   \n",
       "75%        647.000000   1725.000000    605.000000       4.743250   \n",
       "max       6445.000000  35682.000000   6082.000000      15.000100   \n",
       "\n",
       "       median_house_value  \n",
       "count        20640.000000  \n",
       "mean        206855.816909  \n",
       "std         115395.615874  \n",
       "min          14999.000000  \n",
       "25%         119600.000000  \n",
       "50%         179700.000000  \n",
       "75%         264725.000000  \n",
       "max         500001.000000  "
      ]
     },
     "execution_count": 10,
     "metadata": {},
     "output_type": "execute_result"
    }
   ],
   "source": [
    "df.describe()"
   ]
  },
  {
   "cell_type": "code",
   "execution_count": 11,
   "metadata": {},
   "outputs": [],
   "source": [
    "df = df[['latitude', 'longitude', 'housing_median_age', 'total_rooms', 'total_bedrooms', 'population', 'households', 'median_income', 'median_house_value', 'ocean_proximity']]"
   ]
  },
  {
   "cell_type": "code",
   "execution_count": 12,
   "metadata": {},
   "outputs": [
    {
     "data": {
      "text/html": [
       "<div>\n",
       "<style scoped>\n",
       "    .dataframe tbody tr th:only-of-type {\n",
       "        vertical-align: middle;\n",
       "    }\n",
       "\n",
       "    .dataframe tbody tr th {\n",
       "        vertical-align: top;\n",
       "    }\n",
       "\n",
       "    .dataframe thead th {\n",
       "        text-align: right;\n",
       "    }\n",
       "</style>\n",
       "<table border=\"1\" class=\"dataframe\">\n",
       "  <thead>\n",
       "    <tr style=\"text-align: right;\">\n",
       "      <th></th>\n",
       "      <th>latitude</th>\n",
       "      <th>longitude</th>\n",
       "      <th>housing_median_age</th>\n",
       "      <th>total_rooms</th>\n",
       "      <th>total_bedrooms</th>\n",
       "      <th>population</th>\n",
       "      <th>households</th>\n",
       "      <th>median_income</th>\n",
       "      <th>median_house_value</th>\n",
       "      <th>ocean_proximity</th>\n",
       "    </tr>\n",
       "  </thead>\n",
       "  <tbody>\n",
       "    <tr>\n",
       "      <th>0</th>\n",
       "      <td>37.88</td>\n",
       "      <td>-122.23</td>\n",
       "      <td>41.0</td>\n",
       "      <td>880.0</td>\n",
       "      <td>129.0</td>\n",
       "      <td>322.0</td>\n",
       "      <td>126.0</td>\n",
       "      <td>8.3252</td>\n",
       "      <td>452600.0</td>\n",
       "      <td>NEAR BAY</td>\n",
       "    </tr>\n",
       "    <tr>\n",
       "      <th>1</th>\n",
       "      <td>37.86</td>\n",
       "      <td>-122.22</td>\n",
       "      <td>21.0</td>\n",
       "      <td>7099.0</td>\n",
       "      <td>1106.0</td>\n",
       "      <td>2401.0</td>\n",
       "      <td>1138.0</td>\n",
       "      <td>8.3014</td>\n",
       "      <td>358500.0</td>\n",
       "      <td>NEAR BAY</td>\n",
       "    </tr>\n",
       "    <tr>\n",
       "      <th>2</th>\n",
       "      <td>37.85</td>\n",
       "      <td>-122.24</td>\n",
       "      <td>52.0</td>\n",
       "      <td>1467.0</td>\n",
       "      <td>190.0</td>\n",
       "      <td>496.0</td>\n",
       "      <td>177.0</td>\n",
       "      <td>7.2574</td>\n",
       "      <td>352100.0</td>\n",
       "      <td>NEAR BAY</td>\n",
       "    </tr>\n",
       "    <tr>\n",
       "      <th>3</th>\n",
       "      <td>37.85</td>\n",
       "      <td>-122.25</td>\n",
       "      <td>52.0</td>\n",
       "      <td>1274.0</td>\n",
       "      <td>235.0</td>\n",
       "      <td>558.0</td>\n",
       "      <td>219.0</td>\n",
       "      <td>5.6431</td>\n",
       "      <td>341300.0</td>\n",
       "      <td>NEAR BAY</td>\n",
       "    </tr>\n",
       "    <tr>\n",
       "      <th>4</th>\n",
       "      <td>37.85</td>\n",
       "      <td>-122.25</td>\n",
       "      <td>52.0</td>\n",
       "      <td>1627.0</td>\n",
       "      <td>280.0</td>\n",
       "      <td>565.0</td>\n",
       "      <td>259.0</td>\n",
       "      <td>3.8462</td>\n",
       "      <td>342200.0</td>\n",
       "      <td>NEAR BAY</td>\n",
       "    </tr>\n",
       "  </tbody>\n",
       "</table>\n",
       "</div>"
      ],
      "text/plain": [
       "   latitude  longitude  housing_median_age  total_rooms  total_bedrooms  \\\n",
       "0     37.88    -122.23                41.0        880.0           129.0   \n",
       "1     37.86    -122.22                21.0       7099.0          1106.0   \n",
       "2     37.85    -122.24                52.0       1467.0           190.0   \n",
       "3     37.85    -122.25                52.0       1274.0           235.0   \n",
       "4     37.85    -122.25                52.0       1627.0           280.0   \n",
       "\n",
       "   population  households  median_income  median_house_value ocean_proximity  \n",
       "0       322.0       126.0         8.3252            452600.0        NEAR BAY  \n",
       "1      2401.0      1138.0         8.3014            358500.0        NEAR BAY  \n",
       "2       496.0       177.0         7.2574            352100.0        NEAR BAY  \n",
       "3       558.0       219.0         5.6431            341300.0        NEAR BAY  \n",
       "4       565.0       259.0         3.8462            342200.0        NEAR BAY  "
      ]
     },
     "execution_count": 12,
     "metadata": {},
     "output_type": "execute_result"
    }
   ],
   "source": [
    "df.head()"
   ]
  },
  {
   "cell_type": "code",
   "execution_count": 13,
   "metadata": {},
   "outputs": [],
   "source": [
    "df_properties = df[df['ocean_proximity'].isin(['<1H OCEAN', 'INLAND'])]\n"
   ]
  },
  {
   "cell_type": "code",
   "execution_count": 14,
   "metadata": {},
   "outputs": [
    {
     "data": {
      "text/html": [
       "<div>\n",
       "<style scoped>\n",
       "    .dataframe tbody tr th:only-of-type {\n",
       "        vertical-align: middle;\n",
       "    }\n",
       "\n",
       "    .dataframe tbody tr th {\n",
       "        vertical-align: top;\n",
       "    }\n",
       "\n",
       "    .dataframe thead th {\n",
       "        text-align: right;\n",
       "    }\n",
       "</style>\n",
       "<table border=\"1\" class=\"dataframe\">\n",
       "  <thead>\n",
       "    <tr style=\"text-align: right;\">\n",
       "      <th></th>\n",
       "      <th>latitude</th>\n",
       "      <th>longitude</th>\n",
       "      <th>housing_median_age</th>\n",
       "      <th>total_rooms</th>\n",
       "      <th>total_bedrooms</th>\n",
       "      <th>population</th>\n",
       "      <th>households</th>\n",
       "      <th>median_income</th>\n",
       "      <th>median_house_value</th>\n",
       "      <th>ocean_proximity</th>\n",
       "    </tr>\n",
       "  </thead>\n",
       "  <tbody>\n",
       "    <tr>\n",
       "      <th>701</th>\n",
       "      <td>37.64</td>\n",
       "      <td>-121.97</td>\n",
       "      <td>32.0</td>\n",
       "      <td>1283.0</td>\n",
       "      <td>194.0</td>\n",
       "      <td>485.0</td>\n",
       "      <td>171.0</td>\n",
       "      <td>6.0574</td>\n",
       "      <td>431000.0</td>\n",
       "      <td>&lt;1H OCEAN</td>\n",
       "    </tr>\n",
       "    <tr>\n",
       "      <th>830</th>\n",
       "      <td>37.61</td>\n",
       "      <td>-121.99</td>\n",
       "      <td>9.0</td>\n",
       "      <td>3666.0</td>\n",
       "      <td>711.0</td>\n",
       "      <td>2341.0</td>\n",
       "      <td>703.0</td>\n",
       "      <td>4.6458</td>\n",
       "      <td>217000.0</td>\n",
       "      <td>&lt;1H OCEAN</td>\n",
       "    </tr>\n",
       "    <tr>\n",
       "      <th>859</th>\n",
       "      <td>37.57</td>\n",
       "      <td>-121.97</td>\n",
       "      <td>21.0</td>\n",
       "      <td>4342.0</td>\n",
       "      <td>783.0</td>\n",
       "      <td>2172.0</td>\n",
       "      <td>789.0</td>\n",
       "      <td>4.6146</td>\n",
       "      <td>247600.0</td>\n",
       "      <td>&lt;1H OCEAN</td>\n",
       "    </tr>\n",
       "    <tr>\n",
       "      <th>860</th>\n",
       "      <td>37.58</td>\n",
       "      <td>-121.96</td>\n",
       "      <td>15.0</td>\n",
       "      <td>3575.0</td>\n",
       "      <td>597.0</td>\n",
       "      <td>1777.0</td>\n",
       "      <td>559.0</td>\n",
       "      <td>5.7192</td>\n",
       "      <td>283500.0</td>\n",
       "      <td>&lt;1H OCEAN</td>\n",
       "    </tr>\n",
       "    <tr>\n",
       "      <th>861</th>\n",
       "      <td>37.58</td>\n",
       "      <td>-121.98</td>\n",
       "      <td>20.0</td>\n",
       "      <td>4126.0</td>\n",
       "      <td>1031.0</td>\n",
       "      <td>2079.0</td>\n",
       "      <td>975.0</td>\n",
       "      <td>3.6832</td>\n",
       "      <td>216900.0</td>\n",
       "      <td>&lt;1H OCEAN</td>\n",
       "    </tr>\n",
       "  </tbody>\n",
       "</table>\n",
       "</div>"
      ],
      "text/plain": [
       "     latitude  longitude  housing_median_age  total_rooms  total_bedrooms  \\\n",
       "701     37.64    -121.97                32.0       1283.0           194.0   \n",
       "830     37.61    -121.99                 9.0       3666.0           711.0   \n",
       "859     37.57    -121.97                21.0       4342.0           783.0   \n",
       "860     37.58    -121.96                15.0       3575.0           597.0   \n",
       "861     37.58    -121.98                20.0       4126.0          1031.0   \n",
       "\n",
       "     population  households  median_income  median_house_value ocean_proximity  \n",
       "701       485.0       171.0         6.0574            431000.0       <1H OCEAN  \n",
       "830      2341.0       703.0         4.6458            217000.0       <1H OCEAN  \n",
       "859      2172.0       789.0         4.6146            247600.0       <1H OCEAN  \n",
       "860      1777.0       559.0         5.7192            283500.0       <1H OCEAN  \n",
       "861      2079.0       975.0         3.6832            216900.0       <1H OCEAN  "
      ]
     },
     "execution_count": 14,
     "metadata": {},
     "output_type": "execute_result"
    }
   ],
   "source": [
    "df_properties.head()"
   ]
  },
  {
   "cell_type": "code",
   "execution_count": 15,
   "metadata": {},
   "outputs": [
    {
     "data": {
      "text/plain": [
       "latitude                0\n",
       "longitude               0\n",
       "housing_median_age      0\n",
       "total_rooms             0\n",
       "total_bedrooms        157\n",
       "population              0\n",
       "households              0\n",
       "median_income           0\n",
       "median_house_value      0\n",
       "ocean_proximity         0\n",
       "dtype: int64"
      ]
     },
     "execution_count": 15,
     "metadata": {},
     "output_type": "execute_result"
    }
   ],
   "source": [
    "df_properties.isnull().sum() #Total bedrooms is the answer to Questions 1"
   ]
  },
  {
   "cell_type": "code",
   "execution_count": 16,
   "metadata": {},
   "outputs": [
    {
     "data": {
      "text/html": [
       "<div>\n",
       "<style scoped>\n",
       "    .dataframe tbody tr th:only-of-type {\n",
       "        vertical-align: middle;\n",
       "    }\n",
       "\n",
       "    .dataframe tbody tr th {\n",
       "        vertical-align: top;\n",
       "    }\n",
       "\n",
       "    .dataframe thead th {\n",
       "        text-align: right;\n",
       "    }\n",
       "</style>\n",
       "<table border=\"1\" class=\"dataframe\">\n",
       "  <thead>\n",
       "    <tr style=\"text-align: right;\">\n",
       "      <th></th>\n",
       "      <th>latitude</th>\n",
       "      <th>longitude</th>\n",
       "      <th>housing_median_age</th>\n",
       "      <th>total_rooms</th>\n",
       "      <th>total_bedrooms</th>\n",
       "      <th>population</th>\n",
       "      <th>households</th>\n",
       "      <th>median_income</th>\n",
       "      <th>median_house_value</th>\n",
       "    </tr>\n",
       "  </thead>\n",
       "  <tbody>\n",
       "    <tr>\n",
       "      <th>count</th>\n",
       "      <td>15687.000000</td>\n",
       "      <td>15687.000000</td>\n",
       "      <td>15687.000000</td>\n",
       "      <td>15687.000000</td>\n",
       "      <td>15530.000000</td>\n",
       "      <td>15687.000000</td>\n",
       "      <td>15687.000000</td>\n",
       "      <td>15687.000000</td>\n",
       "      <td>15687.000000</td>\n",
       "    </tr>\n",
       "    <tr>\n",
       "      <th>mean</th>\n",
       "      <td>35.467307</td>\n",
       "      <td>-119.217442</td>\n",
       "      <td>27.188118</td>\n",
       "      <td>2665.677312</td>\n",
       "      <td>541.244688</td>\n",
       "      <td>1466.317205</td>\n",
       "      <td>500.916491</td>\n",
       "      <td>3.804019</td>\n",
       "      <td>191943.020017</td>\n",
       "    </tr>\n",
       "    <tr>\n",
       "      <th>std</th>\n",
       "      <td>2.066387</td>\n",
       "      <td>1.780380</td>\n",
       "      <td>12.057128</td>\n",
       "      <td>2257.672743</td>\n",
       "      <td>435.650018</td>\n",
       "      <td>1180.389908</td>\n",
       "      <td>392.759399</td>\n",
       "      <td>1.857158</td>\n",
       "      <td>108801.077620</td>\n",
       "    </tr>\n",
       "    <tr>\n",
       "      <th>min</th>\n",
       "      <td>32.610000</td>\n",
       "      <td>-124.140000</td>\n",
       "      <td>1.000000</td>\n",
       "      <td>2.000000</td>\n",
       "      <td>2.000000</td>\n",
       "      <td>3.000000</td>\n",
       "      <td>2.000000</td>\n",
       "      <td>0.499900</td>\n",
       "      <td>14999.000000</td>\n",
       "    </tr>\n",
       "    <tr>\n",
       "      <th>25%</th>\n",
       "      <td>33.940000</td>\n",
       "      <td>-121.070000</td>\n",
       "      <td>17.000000</td>\n",
       "      <td>1441.000000</td>\n",
       "      <td>295.000000</td>\n",
       "      <td>802.000000</td>\n",
       "      <td>278.000000</td>\n",
       "      <td>2.520800</td>\n",
       "      <td>111300.000000</td>\n",
       "    </tr>\n",
       "    <tr>\n",
       "      <th>50%</th>\n",
       "      <td>34.160000</td>\n",
       "      <td>-118.370000</td>\n",
       "      <td>27.000000</td>\n",
       "      <td>2118.000000</td>\n",
       "      <td>432.000000</td>\n",
       "      <td>1195.000000</td>\n",
       "      <td>406.000000</td>\n",
       "      <td>3.468800</td>\n",
       "      <td>166900.000000</td>\n",
       "    </tr>\n",
       "    <tr>\n",
       "      <th>75%</th>\n",
       "      <td>37.340000</td>\n",
       "      <td>-117.990000</td>\n",
       "      <td>36.000000</td>\n",
       "      <td>3172.000000</td>\n",
       "      <td>645.000000</td>\n",
       "      <td>1777.000000</td>\n",
       "      <td>602.000000</td>\n",
       "      <td>4.686200</td>\n",
       "      <td>241100.000000</td>\n",
       "    </tr>\n",
       "    <tr>\n",
       "      <th>max</th>\n",
       "      <td>41.950000</td>\n",
       "      <td>-114.310000</td>\n",
       "      <td>52.000000</td>\n",
       "      <td>39320.000000</td>\n",
       "      <td>6445.000000</td>\n",
       "      <td>35682.000000</td>\n",
       "      <td>6082.000000</td>\n",
       "      <td>15.000100</td>\n",
       "      <td>500001.000000</td>\n",
       "    </tr>\n",
       "  </tbody>\n",
       "</table>\n",
       "</div>"
      ],
      "text/plain": [
       "           latitude     longitude  housing_median_age   total_rooms  \\\n",
       "count  15687.000000  15687.000000        15687.000000  15687.000000   \n",
       "mean      35.467307   -119.217442           27.188118   2665.677312   \n",
       "std        2.066387      1.780380           12.057128   2257.672743   \n",
       "min       32.610000   -124.140000            1.000000      2.000000   \n",
       "25%       33.940000   -121.070000           17.000000   1441.000000   \n",
       "50%       34.160000   -118.370000           27.000000   2118.000000   \n",
       "75%       37.340000   -117.990000           36.000000   3172.000000   \n",
       "max       41.950000   -114.310000           52.000000  39320.000000   \n",
       "\n",
       "       total_bedrooms    population    households  median_income  \\\n",
       "count    15530.000000  15687.000000  15687.000000   15687.000000   \n",
       "mean       541.244688   1466.317205    500.916491       3.804019   \n",
       "std        435.650018   1180.389908    392.759399       1.857158   \n",
       "min          2.000000      3.000000      2.000000       0.499900   \n",
       "25%        295.000000    802.000000    278.000000       2.520800   \n",
       "50%        432.000000   1195.000000    406.000000       3.468800   \n",
       "75%        645.000000   1777.000000    602.000000       4.686200   \n",
       "max       6445.000000  35682.000000   6082.000000      15.000100   \n",
       "\n",
       "       median_house_value  \n",
       "count        15687.000000  \n",
       "mean        191943.020017  \n",
       "std         108801.077620  \n",
       "min          14999.000000  \n",
       "25%         111300.000000  \n",
       "50%         166900.000000  \n",
       "75%         241100.000000  \n",
       "max         500001.000000  "
      ]
     },
     "execution_count": 16,
     "metadata": {},
     "output_type": "execute_result"
    }
   ],
   "source": [
    "df_properties.describe() #1195 is the answer to Question 2"
   ]
  },
  {
   "cell_type": "code",
   "execution_count": 17,
   "metadata": {},
   "outputs": [],
   "source": [
    "n = len(df_properties)\n",
    "\n",
    "n_val = int(n * 0.2)\n",
    "n_test = int(n * 0.2)\n",
    "n_train = n - n_val - n_test"
   ]
  },
  {
   "cell_type": "code",
   "execution_count": 18,
   "metadata": {},
   "outputs": [
    {
     "data": {
      "text/plain": [
       "(15687, 15687)"
      ]
     },
     "execution_count": 18,
     "metadata": {},
     "output_type": "execute_result"
    }
   ],
   "source": [
    "n, n_val + n_test + n_train"
   ]
  },
  {
   "cell_type": "code",
   "execution_count": 19,
   "metadata": {},
   "outputs": [],
   "source": [
    "df_train = df.iloc[:n_train]\n",
    "df_val = df.iloc[n_train:n_train+n_val]\n",
    "df_test = df.iloc[n_train+n_val:]"
   ]
  },
  {
   "cell_type": "code",
   "execution_count": 20,
   "metadata": {},
   "outputs": [],
   "source": [
    "np.arange(n)\n",
    "idx = np.arange(n)\n",
    "np.random.seed(42)\n",
    "np.random.shuffle(idx)"
   ]
  },
  {
   "cell_type": "code",
   "execution_count": 21,
   "metadata": {},
   "outputs": [],
   "source": [
    "df_train = df.iloc[idx[:n_train]]\n",
    "df_val = df.iloc[idx[n_train:n_train+n_val]]    \n",
    "df_test = df.iloc[idx[n_train+n_val:]]"
   ]
  },
  {
   "cell_type": "code",
   "execution_count": 22,
   "metadata": {},
   "outputs": [
    {
     "data": {
      "text/html": [
       "<div>\n",
       "<style scoped>\n",
       "    .dataframe tbody tr th:only-of-type {\n",
       "        vertical-align: middle;\n",
       "    }\n",
       "\n",
       "    .dataframe tbody tr th {\n",
       "        vertical-align: top;\n",
       "    }\n",
       "\n",
       "    .dataframe thead th {\n",
       "        text-align: right;\n",
       "    }\n",
       "</style>\n",
       "<table border=\"1\" class=\"dataframe\">\n",
       "  <thead>\n",
       "    <tr style=\"text-align: right;\">\n",
       "      <th></th>\n",
       "      <th>latitude</th>\n",
       "      <th>longitude</th>\n",
       "      <th>housing_median_age</th>\n",
       "      <th>total_rooms</th>\n",
       "      <th>total_bedrooms</th>\n",
       "      <th>population</th>\n",
       "      <th>households</th>\n",
       "      <th>median_income</th>\n",
       "      <th>median_house_value</th>\n",
       "      <th>ocean_proximity</th>\n",
       "    </tr>\n",
       "  </thead>\n",
       "  <tbody>\n",
       "    <tr>\n",
       "      <th>15183</th>\n",
       "      <td>33.02</td>\n",
       "      <td>-117.15</td>\n",
       "      <td>4.0</td>\n",
       "      <td>15029.0</td>\n",
       "      <td>2279.0</td>\n",
       "      <td>5613.0</td>\n",
       "      <td>1696.0</td>\n",
       "      <td>7.2731</td>\n",
       "      <td>450400.0</td>\n",
       "      <td>NEAR OCEAN</td>\n",
       "    </tr>\n",
       "    <tr>\n",
       "      <th>4469</th>\n",
       "      <td>34.09</td>\n",
       "      <td>-118.16</td>\n",
       "      <td>50.0</td>\n",
       "      <td>1568.0</td>\n",
       "      <td>302.0</td>\n",
       "      <td>1093.0</td>\n",
       "      <td>333.0</td>\n",
       "      <td>3.1442</td>\n",
       "      <td>162100.0</td>\n",
       "      <td>&lt;1H OCEAN</td>\n",
       "    </tr>\n",
       "    <tr>\n",
       "      <th>9316</th>\n",
       "      <td>37.98</td>\n",
       "      <td>-122.46</td>\n",
       "      <td>10.0</td>\n",
       "      <td>1325.0</td>\n",
       "      <td>189.0</td>\n",
       "      <td>427.0</td>\n",
       "      <td>162.0</td>\n",
       "      <td>12.0933</td>\n",
       "      <td>500001.0</td>\n",
       "      <td>NEAR BAY</td>\n",
       "    </tr>\n",
       "    <tr>\n",
       "      <th>4983</th>\n",
       "      <td>34.00</td>\n",
       "      <td>-118.30</td>\n",
       "      <td>52.0</td>\n",
       "      <td>1686.0</td>\n",
       "      <td>377.0</td>\n",
       "      <td>982.0</td>\n",
       "      <td>356.0</td>\n",
       "      <td>2.0958</td>\n",
       "      <td>116400.0</td>\n",
       "      <td>&lt;1H OCEAN</td>\n",
       "    </tr>\n",
       "    <tr>\n",
       "      <th>13154</th>\n",
       "      <td>36.81</td>\n",
       "      <td>-121.50</td>\n",
       "      <td>20.0</td>\n",
       "      <td>1345.0</td>\n",
       "      <td>230.0</td>\n",
       "      <td>731.0</td>\n",
       "      <td>217.0</td>\n",
       "      <td>4.2333</td>\n",
       "      <td>363300.0</td>\n",
       "      <td>INLAND</td>\n",
       "    </tr>\n",
       "  </tbody>\n",
       "</table>\n",
       "</div>"
      ],
      "text/plain": [
       "       latitude  longitude  housing_median_age  total_rooms  total_bedrooms  \\\n",
       "15183     33.02    -117.15                 4.0      15029.0          2279.0   \n",
       "4469      34.09    -118.16                50.0       1568.0           302.0   \n",
       "9316      37.98    -122.46                10.0       1325.0           189.0   \n",
       "4983      34.00    -118.30                52.0       1686.0           377.0   \n",
       "13154     36.81    -121.50                20.0       1345.0           230.0   \n",
       "\n",
       "       population  households  median_income  median_house_value  \\\n",
       "15183      5613.0      1696.0         7.2731            450400.0   \n",
       "4469       1093.0       333.0         3.1442            162100.0   \n",
       "9316        427.0       162.0        12.0933            500001.0   \n",
       "4983        982.0       356.0         2.0958            116400.0   \n",
       "13154       731.0       217.0         4.2333            363300.0   \n",
       "\n",
       "      ocean_proximity  \n",
       "15183      NEAR OCEAN  \n",
       "4469        <1H OCEAN  \n",
       "9316         NEAR BAY  \n",
       "4983        <1H OCEAN  \n",
       "13154          INLAND  "
      ]
     },
     "execution_count": 22,
     "metadata": {},
     "output_type": "execute_result"
    }
   ],
   "source": [
    "df_train.head()"
   ]
  },
  {
   "cell_type": "code",
   "execution_count": 23,
   "metadata": {},
   "outputs": [
    {
     "data": {
      "text/plain": [
       "(9413, 3137, 3137)"
      ]
     },
     "execution_count": 23,
     "metadata": {},
     "output_type": "execute_result"
    }
   ],
   "source": [
    "len(df_train), len(df_val), len(df_test)"
   ]
  },
  {
   "cell_type": "code",
   "execution_count": 24,
   "metadata": {},
   "outputs": [],
   "source": [
    "df_train = df_train.reset_index(drop=True)\n",
    "df_val = df_val.reset_index(drop=True)\n",
    "df_test = df_test.reset_index(drop=True)"
   ]
  },
  {
   "cell_type": "code",
   "execution_count": 25,
   "metadata": {},
   "outputs": [],
   "source": [
    "y_train = np.log1p(df_train.median_house_value.values)\n",
    "y_val = np.log1p(df_val.median_house_value.values)\n",
    "y_test = np.log1p(df_test.median_house_value.values)"
   ]
  },
  {
   "cell_type": "code",
   "execution_count": 26,
   "metadata": {},
   "outputs": [],
   "source": [
    "del df_train['median_house_value']\n",
    "del df_val['median_house_value']\n",
    "del df_test['median_house_value']"
   ]
  },
  {
   "cell_type": "code",
   "execution_count": 27,
   "metadata": {},
   "outputs": [],
   "source": [
    "#Impute missing values with fillna\n",
    "df_train = df_train.fillna(0)\n",
    "df_val = df_val.fillna(0)\n",
    "df_test = df_test.fillna(0)\n"
   ]
  },
  {
   "cell_type": "code",
   "execution_count": 28,
   "metadata": {},
   "outputs": [],
   "source": [
    "#Create categorical variables and numerical variables for all dataframes\n",
    "categorical_variables = ['ocean_proximity']\n",
    "numerical_variables = ['latitude', 'longitude', 'housing_median_age', 'total_rooms', 'total_bedrooms', 'population', 'households', 'median_income']\n"
   ]
  },
  {
   "cell_type": "code",
   "execution_count": 29,
   "metadata": {},
   "outputs": [
    {
     "data": {
      "text/plain": [
       "latitude                  32.84\n",
       "longitude                -116.9\n",
       "housing_median_age         18.0\n",
       "total_rooms              3612.0\n",
       "total_bedrooms            737.0\n",
       "population               1864.0\n",
       "households                713.0\n",
       "median_income            2.7069\n",
       "ocean_proximity       <1H OCEAN\n",
       "Name: 10, dtype: object"
      ]
     },
     "execution_count": 29,
     "metadata": {},
     "output_type": "execute_result"
    }
   ],
   "source": [
    "df_train.iloc[10]"
   ]
  },
  {
   "cell_type": "code",
   "execution_count": 30,
   "metadata": {},
   "outputs": [],
   "source": [
    "x1 = [32.84, -116.9, 18.0, 3612.0, 737.0, 1864.0, 713.0, 2.7069]"
   ]
  },
  {
   "cell_type": "code",
   "execution_count": 31,
   "metadata": {},
   "outputs": [],
   "source": [
    "w0 = 0\n",
    "w = [1, 1, 1, 1, 1, 1, 1, 1]"
   ]
  },
  {
   "cell_type": "code",
   "execution_count": 32,
   "metadata": {},
   "outputs": [],
   "source": [
    "def linear_regression(xi):\n",
    "    n = len(xi)\n",
    "    \n",
    "    pred = w0\n",
    "    for j in range(n):\n",
    "        pred = pred + w[j] * xi[j]\n",
    "        \n",
    "    return pred"
   ]
  },
  {
   "cell_type": "code",
   "execution_count": 33,
   "metadata": {},
   "outputs": [
    {
     "data": {
      "text/plain": [
       "6862.646900000001"
      ]
     },
     "execution_count": 33,
     "metadata": {},
     "output_type": "execute_result"
    }
   ],
   "source": [
    "linear_regression(x1)"
   ]
  },
  {
   "cell_type": "code",
   "execution_count": 34,
   "metadata": {},
   "outputs": [
    {
     "name": "stderr",
     "output_type": "stream",
     "text": [
      "/tmp/ipykernel_926061/3955348929.py:2: FutureWarning: The default value of numeric_only in DataFrame.mean is deprecated. In a future version, it will default to False. In addition, specifying 'numeric_only=None' is deprecated. Select only valid columns or specify the value of numeric_only to silence this warning.\n",
      "  df_train_mean = df_train.fillna(df_train.mean())\n",
      "/tmp/ipykernel_926061/3955348929.py:3: FutureWarning: The default value of numeric_only in DataFrame.mean is deprecated. In a future version, it will default to False. In addition, specifying 'numeric_only=None' is deprecated. Select only valid columns or specify the value of numeric_only to silence this warning.\n",
      "  df_val_mean = df_val.fillna(df_val.mean())\n",
      "/tmp/ipykernel_926061/3955348929.py:4: FutureWarning: The default value of numeric_only in DataFrame.mean is deprecated. In a future version, it will default to False. In addition, specifying 'numeric_only=None' is deprecated. Select only valid columns or specify the value of numeric_only to silence this warning.\n",
      "  df_test_mean = df_test.fillna(df_test.mean())\n"
     ]
    }
   ],
   "source": [
    "#Impute missing values with fillna using the mean\n",
    "df_train_mean = df_train.fillna(df_train.mean())\n",
    "df_val_mean = df_val.fillna(df_val.mean())\n",
    "df_test_mean = df_test.fillna(df_test.mean())"
   ]
  },
  {
   "cell_type": "code",
   "execution_count": 35,
   "metadata": {},
   "outputs": [
    {
     "data": {
      "text/plain": [
       "latitude                  32.84\n",
       "longitude                -116.9\n",
       "housing_median_age         18.0\n",
       "total_rooms              3612.0\n",
       "total_bedrooms            737.0\n",
       "population               1864.0\n",
       "households                713.0\n",
       "median_income            2.7069\n",
       "ocean_proximity       <1H OCEAN\n",
       "Name: 10, dtype: object"
      ]
     },
     "execution_count": 35,
     "metadata": {},
     "output_type": "execute_result"
    }
   ],
   "source": [
    "df_train_mean.iloc[10]"
   ]
  },
  {
   "cell_type": "code",
   "execution_count": 36,
   "metadata": {},
   "outputs": [],
   "source": [
    "def linear_regression(w, xi):\n",
    "    pred = w[0]  # Initialize prediction with w0\n",
    "    n = len(w)  # Number of features\n",
    "    for j in range(1, n):  # Start from 1 to skip w0\n",
    "        pred += w[j] * xi[j - 1]  # Multiply w[j] with xi[j-1] (assuming w0 is at index 0)\n",
    "    return pred\n"
   ]
  },
  {
   "cell_type": "code",
   "execution_count": 37,
   "metadata": {},
   "outputs": [],
   "source": [
    "zero_regression = linear_regression(w, x1)"
   ]
  },
  {
   "cell_type": "code",
   "execution_count": 38,
   "metadata": {},
   "outputs": [
    {
     "data": {
      "text/plain": [
       "latitude                   33.41\n",
       "longitude                -117.61\n",
       "housing_median_age          35.0\n",
       "total_rooms               2556.0\n",
       "total_bedrooms             404.0\n",
       "population                 946.0\n",
       "households                 399.0\n",
       "median_income             6.1557\n",
       "ocean_proximity       NEAR OCEAN\n",
       "Name: 10, dtype: object"
      ]
     },
     "execution_count": 38,
     "metadata": {},
     "output_type": "execute_result"
    }
   ],
   "source": [
    "#use regression on both dataframes using the validation set\n",
    "df_val_mean.iloc[10]\n"
   ]
  },
  {
   "cell_type": "code",
   "execution_count": 39,
   "metadata": {},
   "outputs": [],
   "source": [
    "mean_regression = linear_regression(w, df_val_mean.iloc[10])"
   ]
  },
  {
   "cell_type": "code",
   "execution_count": 40,
   "metadata": {},
   "outputs": [],
   "source": [
    "#Get the RMSE for the train and validation set\n",
    "def rmse(y, y_pred):\n",
    "    se = (y - y_pred) ** 2\n",
    "    mse = se.mean()\n",
    "    return np.sqrt(mse)"
   ]
  },
  {
   "cell_type": "code",
   "execution_count": 41,
   "metadata": {},
   "outputs": [
    {
     "data": {
      "text/plain": [
       "(6848.879541306961, 6848.8928354260615)"
      ]
     },
     "execution_count": 41,
     "metadata": {},
     "output_type": "execute_result"
    }
   ],
   "source": [
    "rmse(y_train, zero_regression), rmse(y_val, zero_regression)"
   ]
  },
  {
   "cell_type": "code",
   "execution_count": 42,
   "metadata": {},
   "outputs": [
    {
     "data": {
      "text/plain": [
       "array([[4., 4., 4.],\n",
       "       [3., 5., 5.],\n",
       "       [5., 1., 1.],\n",
       "       [5., 4., 4.],\n",
       "       [7., 5., 5.],\n",
       "       [4., 5., 5.]])"
      ]
     },
     "execution_count": 42,
     "metadata": {},
     "output_type": "execute_result"
    }
   ],
   "source": [
    "#Start from question 4\n",
    "X = [\n",
    "    [4, 4, 4],\n",
    "    [3, 5, 5],\n",
    "    [5, 1, 1],\n",
    "    [5, 4, 4],\n",
    "    [7, 5, 5],\n",
    "    [4, 5, 5.0000000001],\n",
    "]\n",
    "\n",
    "X = np.array(X)\n",
    "X"
   ]
  },
  {
   "cell_type": "code",
   "execution_count": 43,
   "metadata": {},
   "outputs": [],
   "source": [
    "y = [1, 2, 3, 1, 2, 3]"
   ]
  },
  {
   "cell_type": "code",
   "execution_count": 44,
   "metadata": {},
   "outputs": [
    {
     "data": {
      "text/plain": [
       "array([[140., 111., 111.],\n",
       "       [111., 108., 108.],\n",
       "       [111., 108., 108.]])"
      ]
     },
     "execution_count": 44,
     "metadata": {},
     "output_type": "execute_result"
    }
   ],
   "source": [
    "XTX = X.T.dot(X)\n",
    "XTX"
   ]
  },
  {
   "cell_type": "code",
   "execution_count": 45,
   "metadata": {},
   "outputs": [],
   "source": [
    "XTX_inv = np.linalg.inv(XTX)"
   ]
  },
  {
   "cell_type": "code",
   "execution_count": 46,
   "metadata": {},
   "outputs": [
    {
     "data": {
      "text/plain": [
       "array([ 5.17914730e-01, -8.82187500e+03,  8.82208594e+03])"
      ]
     },
     "execution_count": 46,
     "metadata": {},
     "output_type": "execute_result"
    }
   ],
   "source": [
    "XTX_inv.dot(X.T).dot(y)"
   ]
  },
  {
   "cell_type": "code",
   "execution_count": 47,
   "metadata": {},
   "outputs": [
    {
     "data": {
      "text/plain": [
       "array([[1., 0., 0.],\n",
       "       [0., 1., 0.],\n",
       "       [0., 0., 1.]])"
      ]
     },
     "execution_count": 47,
     "metadata": {},
     "output_type": "execute_result"
    }
   ],
   "source": [
    "np.eye(3)"
   ]
  },
  {
   "cell_type": "code",
   "execution_count": 48,
   "metadata": {},
   "outputs": [
    {
     "data": {
      "text/plain": [
       "array([[0.1, 0. , 0. ],\n",
       "       [0. , 0.1, 0. ],\n",
       "       [0. , 0. , 0.1]])"
      ]
     },
     "execution_count": 48,
     "metadata": {},
     "output_type": "execute_result"
    }
   ],
   "source": [
    "XTX = 0.1 * np.eye(3)\n",
    "XTX"
   ]
  },
  {
   "cell_type": "code",
   "execution_count": 49,
   "metadata": {},
   "outputs": [
    {
     "data": {
      "text/plain": [
       "array([[10.,  0.,  0.],\n",
       "       [ 0., 10.,  0.],\n",
       "       [ 0.,  0., 10.]])"
      ]
     },
     "execution_count": 49,
     "metadata": {},
     "output_type": "execute_result"
    }
   ],
   "source": [
    "np.linalg.inv(XTX)"
   ]
  },
  {
   "cell_type": "code",
   "execution_count": 50,
   "metadata": {},
   "outputs": [],
   "source": [
    "def train_linear_regression_reg(X, y, r=0.001):   \n",
    "    ones = np.ones(X.shape[0])    \n",
    "    X = np.column_stack([ones, X])\n",
    "    \n",
    "    XTX = X.T.dot(X)\n",
    "    XTX = XTX + r * np.eye(XTX.shape[0])\n",
    "    \n",
    "    XTX_inv = np.linalg.inv(XTX)\n",
    "    w_full = XTX_inv.dot(X.T).dot(y)\n",
    "    \n",
    "    return w_full[0], w_full[1:]"
   ]
  },
  {
   "cell_type": "code",
   "execution_count": 51,
   "metadata": {},
   "outputs": [
    {
     "name": "stdout",
     "output_type": "stream",
     "text": [
      "0 3.733590236822238 [-4.32432222e-01 -8.13598438e+03  8.13576562e+03]\n",
      "1e-06 2.7567451297618986 [-0.01801653 -0.08414136 -0.08402575]\n",
      "0.0001 2.755594516549234 [-0.0178688  -0.08403217 -0.08403101]\n",
      "0.001 2.74517903168005 [-0.0165316  -0.0835612  -0.08356108]\n",
      "0.01 2.645264995705289 [-0.00370816 -0.07904613 -0.07904612]\n",
      "0.1 1.943029756889188 [ 0.08612206 -0.04716457 -0.04716457]\n",
      "1 0.557853997059341 [0.25570532 0.01948485 0.01948485]\n",
      "5 0.16335417879721548 [0.27333722 0.05311796 0.05311796]\n",
      "10 0.1018733421744301 [0.25298408 0.06846817 0.06846817]\n"
     ]
    }
   ],
   "source": [
    "for r in [0, 0.000001, 0.0001, 0.001, 0.01, 0.1, 1, 5, 10]:\n",
    "    w0, w = train_linear_regression_reg(X, y, r=r)\n",
    "    print(r, w0, w)"
   ]
  },
  {
   "cell_type": "code",
   "execution_count": 52,
   "metadata": {},
   "outputs": [
    {
     "name": "stdout",
     "output_type": "stream",
     "text": [
      "[[4. 4. 4.]\n",
      " [3. 5. 5.]\n",
      " [5. 1. 1.]\n",
      " [5. 4. 4.]\n",
      " [7. 5. 5.]\n",
      " [4. 5. 5.]]\n"
     ]
    }
   ],
   "source": [
    "#Use RMSE on validation set to find the best r\n",
    "def prepare_X(df_val):\n",
    "    df = df_val.copy()\n",
    "    df = df_val.fillna(0)\n",
    "    X = df_val.values\n",
    "    return X\n",
    "\n",
    "print(X)"
   ]
  },
  {
   "cell_type": "code",
   "execution_count": 53,
   "metadata": {},
   "outputs": [],
   "source": [
    "#Use prepare_X to get the X for the validation set\n",
    "X_val = prepare_X(df_val)"
   ]
  },
  {
   "cell_type": "code",
   "execution_count": 54,
   "metadata": {},
   "outputs": [],
   "source": [
    "#Use train_linear_regression_reg to get the w0 and w for the validation set\n",
    "w0, w = train_linear_regression_reg(X, y, r=0.001)"
   ]
  },
  {
   "cell_type": "code",
   "execution_count": 55,
   "metadata": {},
   "outputs": [],
   "source": [
    "#Use different seed values to see effect on RMSE\n",
    "seed = [0, 1, 2, 3, 4, 5, 6, 7, 8, 9]\n",
    "def split_data(df, seed):\n",
    "    n = len(df)\n",
    "    n_val = int(n * 0.2)\n",
    "    n_test = int(n * 0.2)\n",
    "    n_train = n - n_val - n_test\n",
    "    \n",
    "    idx = np.arange(n)\n",
    "    np.random.seed(seed)\n",
    "    np.random.shuffle(idx)\n",
    "    \n",
    "    df_train = df.iloc[idx[:n_train]]\n",
    "    df_val = df.iloc[idx[n_train:n_train+n_val]]\n",
    "    df_test = df.iloc[idx[n_train+n_val:]]\n",
    "    \n",
    "    y_train = np.log1p(df_train.median_house_value.values)\n",
    "    y_val = np.log1p(df_val.median_house_value.values)\n",
    "    y_test = np.log1p(df_test.median_house_value.values)\n",
    "    \n",
    "    del df_train['median_house_value']\n",
    "    del df_val['median_house_value']\n",
    "    del df_test['median_house_value']\n",
    "    \n",
    "    return df_train, df_val, df_test, y_train, y_val, y_test"
   ]
  },
  {
   "cell_type": "code",
   "execution_count": 56,
   "metadata": {},
   "outputs": [],
   "source": [
    "#Evaluate linear regression with different seeds\n",
    "def train_linear_regression_reg(X, y, r=0.001):   \n",
    "    ones = np.ones(X.shape[0])    \n",
    "    X = np.column_stack([ones, X])\n",
    "    \n",
    "    XTX = X.T.dot(X)\n",
    "    XTX = XTX + r * np.eye(XTX.shape[0])\n",
    "    \n",
    "    XTX_inv = np.linalg.inv(XTX)\n",
    "    w_full = XTX_inv.dot(X.T).dot(y)\n",
    "    \n",
    "    return w_full[0], w_full[1:]"
   ]
  },
  {
   "cell_type": "code",
   "execution_count": 57,
   "metadata": {},
   "outputs": [],
   "source": [
    "#Best seed\n",
    "def rmse(y, y_pred):\n",
    "    se = (y - y_pred) ** 2\n",
    "    mse = se.mean()\n",
    "    return np.sqrt(mse)"
   ]
  },
  {
   "cell_type": "code",
   "execution_count": 58,
   "metadata": {},
   "outputs": [
    {
     "data": {
      "text/html": [
       "<div>\n",
       "<style scoped>\n",
       "    .dataframe tbody tr th:only-of-type {\n",
       "        vertical-align: middle;\n",
       "    }\n",
       "\n",
       "    .dataframe tbody tr th {\n",
       "        vertical-align: top;\n",
       "    }\n",
       "\n",
       "    .dataframe thead th {\n",
       "        text-align: right;\n",
       "    }\n",
       "</style>\n",
       "<table border=\"1\" class=\"dataframe\">\n",
       "  <thead>\n",
       "    <tr style=\"text-align: right;\">\n",
       "      <th></th>\n",
       "      <th>latitude</th>\n",
       "      <th>longitude</th>\n",
       "      <th>housing_median_age</th>\n",
       "      <th>total_rooms</th>\n",
       "      <th>total_bedrooms</th>\n",
       "      <th>population</th>\n",
       "      <th>households</th>\n",
       "      <th>median_income</th>\n",
       "      <th>ocean_proximity</th>\n",
       "    </tr>\n",
       "  </thead>\n",
       "  <tbody>\n",
       "    <tr>\n",
       "      <th>0</th>\n",
       "      <td>33.92</td>\n",
       "      <td>-118.24</td>\n",
       "      <td>42.0</td>\n",
       "      <td>328.0</td>\n",
       "      <td>100.0</td>\n",
       "      <td>605.0</td>\n",
       "      <td>87.0</td>\n",
       "      <td>2.4464</td>\n",
       "      <td>&lt;1H OCEAN</td>\n",
       "    </tr>\n",
       "    <tr>\n",
       "      <th>1</th>\n",
       "      <td>34.68</td>\n",
       "      <td>-118.12</td>\n",
       "      <td>12.0</td>\n",
       "      <td>5319.0</td>\n",
       "      <td>875.0</td>\n",
       "      <td>2439.0</td>\n",
       "      <td>779.0</td>\n",
       "      <td>4.6629</td>\n",
       "      <td>INLAND</td>\n",
       "    </tr>\n",
       "    <tr>\n",
       "      <th>2</th>\n",
       "      <td>34.10</td>\n",
       "      <td>-117.83</td>\n",
       "      <td>18.0</td>\n",
       "      <td>11026.0</td>\n",
       "      <td>1978.0</td>\n",
       "      <td>5407.0</td>\n",
       "      <td>1923.0</td>\n",
       "      <td>4.0750</td>\n",
       "      <td>INLAND</td>\n",
       "    </tr>\n",
       "    <tr>\n",
       "      <th>3</th>\n",
       "      <td>32.87</td>\n",
       "      <td>-116.93</td>\n",
       "      <td>17.0</td>\n",
       "      <td>3722.0</td>\n",
       "      <td>670.0</td>\n",
       "      <td>1561.0</td>\n",
       "      <td>604.0</td>\n",
       "      <td>3.6027</td>\n",
       "      <td>&lt;1H OCEAN</td>\n",
       "    </tr>\n",
       "    <tr>\n",
       "      <th>4</th>\n",
       "      <td>33.74</td>\n",
       "      <td>-116.41</td>\n",
       "      <td>25.0</td>\n",
       "      <td>2475.0</td>\n",
       "      <td>476.0</td>\n",
       "      <td>910.0</td>\n",
       "      <td>387.0</td>\n",
       "      <td>3.3639</td>\n",
       "      <td>INLAND</td>\n",
       "    </tr>\n",
       "  </tbody>\n",
       "</table>\n",
       "</div>"
      ],
      "text/plain": [
       "   latitude  longitude  housing_median_age  total_rooms  total_bedrooms  \\\n",
       "0     33.92    -118.24                42.0        328.0           100.0   \n",
       "1     34.68    -118.12                12.0       5319.0           875.0   \n",
       "2     34.10    -117.83                18.0      11026.0          1978.0   \n",
       "3     32.87    -116.93                17.0       3722.0           670.0   \n",
       "4     33.74    -116.41                25.0       2475.0           476.0   \n",
       "\n",
       "   population  households  median_income ocean_proximity  \n",
       "0       605.0        87.0         2.4464       <1H OCEAN  \n",
       "1      2439.0       779.0         4.6629          INLAND  \n",
       "2      5407.0      1923.0         4.0750          INLAND  \n",
       "3      1561.0       604.0         3.6027       <1H OCEAN  \n",
       "4       910.0       387.0         3.3639          INLAND  "
      ]
     },
     "execution_count": 58,
     "metadata": {},
     "output_type": "execute_result"
    }
   ],
   "source": [
    "df_val.head()"
   ]
  },
  {
   "cell_type": "code",
   "execution_count": 59,
   "metadata": {},
   "outputs": [],
   "source": [
    "#remove non-numerical variables from dataframe\n",
    "df_val = df_val.drop('ocean_proximity', axis=1)"
   ]
  },
  {
   "cell_type": "code",
   "execution_count": 60,
   "metadata": {},
   "outputs": [
    {
     "data": {
      "text/html": [
       "<div>\n",
       "<style scoped>\n",
       "    .dataframe tbody tr th:only-of-type {\n",
       "        vertical-align: middle;\n",
       "    }\n",
       "\n",
       "    .dataframe tbody tr th {\n",
       "        vertical-align: top;\n",
       "    }\n",
       "\n",
       "    .dataframe thead th {\n",
       "        text-align: right;\n",
       "    }\n",
       "</style>\n",
       "<table border=\"1\" class=\"dataframe\">\n",
       "  <thead>\n",
       "    <tr style=\"text-align: right;\">\n",
       "      <th></th>\n",
       "      <th>latitude</th>\n",
       "      <th>longitude</th>\n",
       "      <th>housing_median_age</th>\n",
       "      <th>total_rooms</th>\n",
       "      <th>total_bedrooms</th>\n",
       "      <th>population</th>\n",
       "      <th>households</th>\n",
       "      <th>median_income</th>\n",
       "    </tr>\n",
       "  </thead>\n",
       "  <tbody>\n",
       "    <tr>\n",
       "      <th>0</th>\n",
       "      <td>33.92</td>\n",
       "      <td>-118.24</td>\n",
       "      <td>42.0</td>\n",
       "      <td>328.0</td>\n",
       "      <td>100.0</td>\n",
       "      <td>605.0</td>\n",
       "      <td>87.0</td>\n",
       "      <td>2.4464</td>\n",
       "    </tr>\n",
       "    <tr>\n",
       "      <th>1</th>\n",
       "      <td>34.68</td>\n",
       "      <td>-118.12</td>\n",
       "      <td>12.0</td>\n",
       "      <td>5319.0</td>\n",
       "      <td>875.0</td>\n",
       "      <td>2439.0</td>\n",
       "      <td>779.0</td>\n",
       "      <td>4.6629</td>\n",
       "    </tr>\n",
       "    <tr>\n",
       "      <th>2</th>\n",
       "      <td>34.10</td>\n",
       "      <td>-117.83</td>\n",
       "      <td>18.0</td>\n",
       "      <td>11026.0</td>\n",
       "      <td>1978.0</td>\n",
       "      <td>5407.0</td>\n",
       "      <td>1923.0</td>\n",
       "      <td>4.0750</td>\n",
       "    </tr>\n",
       "    <tr>\n",
       "      <th>3</th>\n",
       "      <td>32.87</td>\n",
       "      <td>-116.93</td>\n",
       "      <td>17.0</td>\n",
       "      <td>3722.0</td>\n",
       "      <td>670.0</td>\n",
       "      <td>1561.0</td>\n",
       "      <td>604.0</td>\n",
       "      <td>3.6027</td>\n",
       "    </tr>\n",
       "    <tr>\n",
       "      <th>4</th>\n",
       "      <td>33.74</td>\n",
       "      <td>-116.41</td>\n",
       "      <td>25.0</td>\n",
       "      <td>2475.0</td>\n",
       "      <td>476.0</td>\n",
       "      <td>910.0</td>\n",
       "      <td>387.0</td>\n",
       "      <td>3.3639</td>\n",
       "    </tr>\n",
       "  </tbody>\n",
       "</table>\n",
       "</div>"
      ],
      "text/plain": [
       "   latitude  longitude  housing_median_age  total_rooms  total_bedrooms  \\\n",
       "0     33.92    -118.24                42.0        328.0           100.0   \n",
       "1     34.68    -118.12                12.0       5319.0           875.0   \n",
       "2     34.10    -117.83                18.0      11026.0          1978.0   \n",
       "3     32.87    -116.93                17.0       3722.0           670.0   \n",
       "4     33.74    -116.41                25.0       2475.0           476.0   \n",
       "\n",
       "   population  households  median_income  \n",
       "0       605.0        87.0         2.4464  \n",
       "1      2439.0       779.0         4.6629  \n",
       "2      5407.0      1923.0         4.0750  \n",
       "3      1561.0       604.0         3.6027  \n",
       "4       910.0       387.0         3.3639  "
      ]
     },
     "execution_count": 60,
     "metadata": {},
     "output_type": "execute_result"
    }
   ],
   "source": [
    "df_val.head()"
   ]
  },
  {
   "cell_type": "code",
   "execution_count": 61,
   "metadata": {},
   "outputs": [
    {
     "name": "stdout",
     "output_type": "stream",
     "text": [
      "Seed 0 RMSE: 69001.347031065\n",
      "Seed 1 RMSE: 68552.17971801468\n",
      "Seed 2 RMSE: 68020.97229529977\n",
      "Seed 3 RMSE: 68682.27908084147\n",
      "Seed 4 RMSE: 69849.4611415653\n",
      "Seed 5 RMSE: 69752.60796631488\n",
      "Seed 6 RMSE: 71902.50599341291\n",
      "Seed 7 RMSE: 69643.15543496792\n",
      "Seed 8 RMSE: 71392.58656155689\n",
      "Seed 9 RMSE: 70016.31263810102\n",
      "Standard Deviation of RMSE scores: 1161.95\n"
     ]
    }
   ],
   "source": [
    "import numpy as np\n",
    "import pandas as pd\n",
    "\n",
    "# Define the train_linear_regression function without regularization\n",
    "def train_linear_regression(X, y):\n",
    "    ones = np.ones(X.shape[0])\n",
    "    X = np.column_stack([ones, X])\n",
    "    XTX = X.T.dot(X)\n",
    "    XTX_inv = np.linalg.inv(XTX)\n",
    "    w = XTX_inv.dot(X.T).dot(y)\n",
    "    return w[0], w[1:]\n",
    "\n",
    "# Define a custom function to split the data into train, validation, and test sets\n",
    "def custom_split_data(df, train_ratio=0.6, val_ratio=0.2, seed=None):\n",
    "    np.random.seed(seed)  # Set a seed for reproducibility\n",
    "    \n",
    "    # Shuffle the data indices\n",
    "    indices = np.random.permutation(len(df))\n",
    "    \n",
    "    # Calculate the sizes of each split\n",
    "    train_size = int(train_ratio * len(df))\n",
    "    val_size = int(val_ratio * len(df))\n",
    "    \n",
    "    # Split the indices into train, validation, and test sets\n",
    "    train_indices = indices[:train_size]\n",
    "    val_indices = indices[train_size:(train_size + val_size)]\n",
    "    test_indices = indices[(train_size + val_size):]\n",
    "    \n",
    "    # Create the train, validation, and test sets\n",
    "    df_train = df.iloc[train_indices]\n",
    "    df_val = df.iloc[val_indices]\n",
    "    df_test = df.iloc[test_indices]\n",
    "    \n",
    "    return df_train, df_val, df_test\n",
    "\n",
    "# Define the prepare_X function to prepare the feature matrix X\n",
    "def prepare_X(df_val):\n",
    "    # Ensure that you return a valid feature matrix X\n",
    "    # Fill missing values with 0 if needed\n",
    "    df = df_val.fillna(0)\n",
    "    \n",
    "    # Identify non-numeric columns and drop them\n",
    "    non_numeric_cols = df.select_dtypes(exclude=[np.number]).columns\n",
    "    df = df.drop(columns=non_numeric_cols)\n",
    "    \n",
    "    X = df.values  # Assuming all columns in df are numeric\n",
    "    return X\n",
    "\n",
    "# Define the rmse function for calculating RMSE\n",
    "def rmse(y, y_pred):\n",
    "    se = (y - y_pred) ** 2\n",
    "    mse = se.mean()\n",
    "    return np.sqrt(mse)\n",
    "\n",
    "# Load your dataset (replace 'your_dataset.csv' with your actual dataset file)\n",
    "# df = pd.read_csv('your_dataset.csv')\n",
    "\n",
    "# Set the seed values\n",
    "seed_values = [0, 1, 2, 3, 4, 5, 6, 7, 8, 9]\n",
    "\n",
    "# Calculate RMSE scores for different seeds and collect them\n",
    "scores = []\n",
    "\n",
    "for seed in seed_values:\n",
    "    df_train, df_val, df_test = custom_split_data(df, seed=seed)\n",
    "    \n",
    "    y_train = df_train['median_house_value'].values\n",
    "    y_val = df_val['median_house_value'].values\n",
    "    y_test = df_test['median_house_value'].values\n",
    "    \n",
    "    df_train = df_train.drop(columns=['median_house_value'])\n",
    "    df_val = df_val.drop(columns=['median_house_value'])\n",
    "    df_test = df_test.drop(columns=['median_house_value'])\n",
    "    \n",
    "    X_train = prepare_X(df_train)\n",
    "    X_val = prepare_X(df_val)\n",
    "    \n",
    "    # Check if X_train and X_val are not None and handle missing values\n",
    "    if X_train is not None and X_val is not None:\n",
    "        # Train the model without regularization\n",
    "        w0, w = train_linear_regression(X_train, y_train)\n",
    "        \n",
    "        y_pred = w0 + X_val.dot(w)\n",
    "        \n",
    "        score = rmse(y_val, y_pred)\n",
    "        scores.append(score)\n",
    "        print(\"Seed\", seed, \"RMSE:\", score)\n",
    "    else:\n",
    "        print(\"Warning: X_train or X_val is None for seed\", seed)\n",
    "\n",
    "# Calculate the standard deviation of all the scores\n",
    "std_deviation = np.std(scores)\n",
    "\n",
    "# Round the result to 3 decimal digits\n",
    "rounded_std_deviation = round(std_deviation, 3)\n",
    "\n",
    "print(\"Standard Deviation of RMSE scores:\", rounded_std_deviation)\n",
    "\n",
    "\n",
    "\n",
    "\n",
    "\n",
    "\n",
    "\n",
    "\n",
    "\n",
    "\n",
    "\n"
   ]
  },
  {
   "cell_type": "code",
   "execution_count": 62,
   "metadata": {},
   "outputs": [
    {
     "data": {
      "text/plain": [
       "(204452.98777410423, array([0.00282348]))"
      ]
     },
     "execution_count": 62,
     "metadata": {},
     "output_type": "execute_result"
    }
   ],
   "source": [
    "#Predict with the test set\n",
    "train_linear_regression(y_test, y_pred)\n"
   ]
  },
  {
   "cell_type": "code",
   "execution_count": 63,
   "metadata": {},
   "outputs": [
    {
     "data": {
      "text/plain": [
       "146645.08567927414"
      ]
     },
     "execution_count": 63,
     "metadata": {},
     "output_type": "execute_result"
    }
   ],
   "source": [
    "#RMSE for test set\n",
    "rmse(y_test, y_pred)"
   ]
  },
  {
   "cell_type": "code",
   "execution_count": 64,
   "metadata": {},
   "outputs": [
    {
     "name": "stdout",
     "output_type": "stream",
     "text": [
      "RMSE on the test dataset: 69008.41096733189\n"
     ]
    }
   ],
   "source": [
    "import numpy as np\n",
    "import pandas as pd\n",
    "\n",
    "# Define the train_linear_regression function with regularization (r)\n",
    "def train_linear_regression(X, y, r):\n",
    "    ones = np.ones(X.shape[0])\n",
    "    X = np.column_stack([ones, X])\n",
    "    XTX = X.T.dot(X)\n",
    "    XTX = XTX + r * np.eye(XTX.shape[0])  # Add regularization term\n",
    "    XTX_inv = np.linalg.inv(XTX)\n",
    "    w = XTX_inv.dot(X.T).dot(y)\n",
    "    return w[0], w[1:]\n",
    "\n",
    "# Define a custom function to split the data into train, validation, and test sets\n",
    "def custom_split_data(df, train_ratio=0.6, val_ratio=0.2, test_ratio=0.2, seed=None):\n",
    "    np.random.seed(seed)  # Set a seed for reproducibility\n",
    "    \n",
    "    # Shuffle the data indices\n",
    "    indices = np.random.permutation(len(df))\n",
    "    \n",
    "    # Calculate the sizes of each split\n",
    "    train_size = int(train_ratio * len(df))\n",
    "    val_size = int(val_ratio * len(df))\n",
    "    test_size = len(df) - train_size - val_size\n",
    "    \n",
    "    # Split the indices into train, validation, and test sets\n",
    "    train_indices = indices[:train_size]\n",
    "    val_indices = indices[train_size:(train_size + val_size)]\n",
    "    test_indices = indices[(train_size + val_size):]\n",
    "    \n",
    "    # Create the train, validation, and test sets\n",
    "    df_train = df.iloc[train_indices]\n",
    "    df_val = df.iloc[val_indices]\n",
    "    df_test = df.iloc[test_indices]\n",
    "    \n",
    "    return df_train, df_val, df_test\n",
    "\n",
    "# Define the prepare_X function to prepare the feature matrix X\n",
    "def prepare_X(df_val):\n",
    "    # Ensure that you return a valid feature matrix X\n",
    "    # Fill missing values with 0\n",
    "    df = df_val.fillna(0)\n",
    "    \n",
    "    # Identify non-numeric columns and drop them\n",
    "    non_numeric_cols = df.select_dtypes(exclude=[np.number]).columns\n",
    "    df = df.drop(columns=non_numeric_cols)\n",
    "    \n",
    "    X = df.values  # Assuming all columns in df are numeric\n",
    "    return X\n",
    "\n",
    "# Define the rmse function for calculating RMSE\n",
    "def rmse(y, y_pred):\n",
    "    se = (y - y_pred) ** 2\n",
    "    mse = se.mean()\n",
    "    return np.sqrt(mse)\n",
    "\n",
    "# Load your dataset (replace 'your_dataset.csv' with your actual dataset file)\n",
    "# df = pd.read_csv('your_dataset.csv')\n",
    "\n",
    "# Set the seed for reproducibility\n",
    "seed = 9\n",
    "\n",
    "# Split the dataset into train, validation, and test sets using seed 9\n",
    "df_train, df_val, df_test = custom_split_data(df, seed=seed)\n",
    "\n",
    "# Combine train and validation datasets\n",
    "df_train = pd.concat([df_train, df_val], axis=0)\n",
    "\n",
    "# Extract target variables\n",
    "y_train = df_train['median_house_value'].values\n",
    "y_test = df_test['median_house_value'].values\n",
    "\n",
    "# Drop target variable from datasets\n",
    "df_train = df_train.drop(columns=['median_house_value'])\n",
    "df_test = df_test.drop(columns=['median_house_value'])\n",
    "\n",
    "# Prepare feature matrices X_train and X_test\n",
    "X_train = prepare_X(df_train)\n",
    "X_test = prepare_X(df_test)\n",
    "\n",
    "# Regularization parameter (r)\n",
    "r = 0.001\n",
    "\n",
    "# Train the model with regularization\n",
    "w0, w = train_linear_regression(X_train, y_train, r)\n",
    "\n",
    "# Make predictions on the test dataset\n",
    "y_pred = w0 + X_test.dot(w)\n",
    "\n",
    "# Calculate RMSE on the test dataset\n",
    "test_rmse = rmse(y_test, y_pred)\n",
    "print(\"RMSE on the test dataset:\", test_rmse)\n"
   ]
  },
  {
   "cell_type": "markdown",
   "metadata": {},
   "source": [
    "<h1>Validation Code</h1>"
   ]
  },
  {
   "cell_type": "code",
   "execution_count": 65,
   "metadata": {},
   "outputs": [
    {
     "name": "stdout",
     "output_type": "stream",
     "text": [
      "Features with missing values: ['total_bedrooms']\n"
     ]
    }
   ],
   "source": [
    "#Question 1\n",
    "missing_features = df.columns[df.isnull().any()].tolist()\n",
    "print(\"Features with missing values:\", missing_features)\n"
   ]
  },
  {
   "cell_type": "code",
   "execution_count": 66,
   "metadata": {},
   "outputs": [
    {
     "name": "stdout",
     "output_type": "stream",
     "text": [
      "Median population: 1166.0\n"
     ]
    }
   ],
   "source": [
    "#Question 2\n",
    "median_population = np.median(df['population'])\n",
    "print(\"Median population:\", median_population)\n"
   ]
  },
  {
   "cell_type": "code",
   "execution_count": 67,
   "metadata": {},
   "outputs": [
    {
     "name": "stdout",
     "output_type": "stream",
     "text": [
      "RMSE with 0 fill: 0.34\n",
      "RMSE with mean fill: 0.34\n",
      "Both options are equally good.\n"
     ]
    }
   ],
   "source": [
    "#Question 3\n",
    "# Prepare and split the dataset\n",
    "# (Use the code you previously provided to prepare and split the dataset)\n",
    "\n",
    "from sklearn.linear_model import LinearRegression\n",
    "\n",
    "# Option 1: Fill missing values with 0\n",
    "X_train_0 = X_train.copy()\n",
    "X_val_0 = X_val.copy()\n",
    "X_train_0[np.isnan(X_train_0)] = 0\n",
    "X_val_0[np.isnan(X_val_0)] = 0\n",
    "\n",
    "model_0 = LinearRegression()\n",
    "model_0.fit(X_train_0, np.log1p(y_train))\n",
    "y_pred_0 = model_0.predict(X_val_0)\n",
    "rmse_0 = rmse(np.log1p(y_val), y_pred_0)\n",
    "\n",
    "# Option 2: Fill missing values with the mean (computed from the training data)\n",
    "mean_fill_value = np.nanmean(X_train, axis=0)\n",
    "X_train_mean = X_train.copy()\n",
    "X_val_mean = X_val.copy()\n",
    "\n",
    "for i in range(X_train_mean.shape[1]):\n",
    "    nan_indices_train = np.isnan(X_train_mean[:, i])\n",
    "    nan_indices_val = np.isnan(X_val_mean[:, i])\n",
    "    X_train_mean[nan_indices_train, i] = mean_fill_value[i]\n",
    "    X_val_mean[nan_indices_val, i] = mean_fill_value[i]\n",
    "\n",
    "model_mean = LinearRegression()\n",
    "model_mean.fit(X_train_mean, np.log1p(y_train))\n",
    "y_pred_mean = model_mean.predict(X_val_mean)\n",
    "rmse_mean = rmse(np.log1p(y_val), y_pred_mean)\n",
    "\n",
    "# Compare RMSE scores\n",
    "print(\"RMSE with 0 fill:\", round(rmse_0, 2))\n",
    "print(\"RMSE with mean fill:\", round(rmse_mean, 2))\n",
    "\n",
    "# Determine which option gives better RMSE\n",
    "if rmse_0 < rmse_mean:\n",
    "    print(\"Option with 0 fill gives a better RMSE.\")\n",
    "elif rmse_mean < rmse_0:\n",
    "    print(\"Option with mean fill gives a better RMSE.\")\n",
    "else:\n",
    "    print(\"Both options are equally good.\")\n"
   ]
  },
  {
   "cell_type": "code",
   "execution_count": 68,
   "metadata": {},
   "outputs": [
    {
     "name": "stdout",
     "output_type": "stream",
     "text": [
      "Best r value: 0.01\n",
      "Best RMSE: 0.34\n"
     ]
    }
   ],
   "source": [
    "#Question 4\n",
    "r_values = [0, 0.000001, 0.0001, 0.001, 0.01, 0.1, 1, 5, 10]\n",
    "best_rmse = float('inf')\n",
    "best_r = None\n",
    "\n",
    "for r in r_values:\n",
    "    X_train_r = X_train.copy()\n",
    "    X_val_r = X_val.copy()\n",
    "    \n",
    "    # Fill NAs with 0\n",
    "    X_train_r[np.isnan(X_train_r)] = 0\n",
    "    X_val_r[np.isnan(X_val_r)] = 0\n",
    "    \n",
    "    # Train a regularized linear regression model\n",
    "    w0_r, w_r = train_linear_regression(X_train_r, np.log1p(y_train), r)\n",
    "    y_pred_r = w0_r + X_val_r.dot(w_r)\n",
    "    \n",
    "    # Calculate RMSE\n",
    "    rmse_r = rmse(np.log1p(y_val), y_pred_r)\n",
    "    \n",
    "    # Check if this is the best RMSE so far\n",
    "    if rmse_r < best_rmse:\n",
    "        best_rmse = rmse_r\n",
    "        best_r = r\n",
    "\n",
    "# Round the RMSE scores to 2 decimal digits\n",
    "best_rmse = round(best_rmse, 2)\n",
    "\n",
    "print(\"Best r value:\", best_r)\n",
    "print(\"Best RMSE:\", best_rmse)\n"
   ]
  },
  {
   "cell_type": "code",
   "execution_count": 69,
   "metadata": {},
   "outputs": [
    {
     "name": "stdout",
     "output_type": "stream",
     "text": [
      "Standard Deviation of RMSE scores: 0.005\n"
     ]
    }
   ],
   "source": [
    "#Question 5\n",
    "seed_values = [0, 1, 2, 3, 4, 5, 6, 7, 8, 9]\n",
    "rmse_scores = []\n",
    "\n",
    "for seed in seed_values:\n",
    "    # Split the data with the current seed\n",
    "    df_train, df_val, df_test = custom_split_data(df, seed=seed)\n",
    "    \n",
    "    # Combine train and validation datasets\n",
    "    df_train = pd.concat([df_train, df_val], axis=0)\n",
    "    \n",
    "    # Extract target variables\n",
    "    y_train = df_train['median_house_value'].values\n",
    "    y_test = df_test['median_house_value'].values\n",
    "    \n",
    "    # Drop target variable from datasets\n",
    "    df_train = df_train.drop(columns=['median_house_value'])\n",
    "    df_test = df_test.drop(columns=['median_house_value'])\n",
    "    \n",
    "    # Prepare feature matrices X_train and X_test\n",
    "    X_train = prepare_X(df_train)\n",
    "    X_test = prepare_X(df_test)\n",
    "    \n",
    "    # Fill missing values with 0\n",
    "    X_train[np.isnan(X_train)] = 0\n",
    "    X_test[np.isnan(X_test)] = 0\n",
    "    \n",
    "    # Train a model without regularization\n",
    "    w0_seed, w_seed = train_linear_regression(X_train, np.log1p(y_train), 0)\n",
    "    y_pred_seed = w0_seed + X_test.dot(w_seed)\n",
    "    \n",
    "    # Calculate RMSE\n",
    "    rmse_seed = rmse(np.log1p(y_test), y_pred_seed)\n",
    "    rmse_scores.append(rmse_seed)\n",
    "\n",
    "# Calculate the standard deviation of RMSE scores\n",
    "std_deviation = np.std(rmse_scores)\n",
    "std_deviation = round(std_deviation, 3)\n",
    "\n",
    "print(\"Standard Deviation of RMSE scores:\", std_deviation)\n"
   ]
  },
  {
   "cell_type": "code",
   "execution_count": 70,
   "metadata": {},
   "outputs": [
    {
     "data": {
      "text/plain": [
       "Index(['latitude', 'longitude', 'housing_median_age', 'total_rooms',\n",
       "       'total_bedrooms', 'population', 'households', 'median_income',\n",
       "       'median_house_value', 'ocean_proximity'],\n",
       "      dtype='object')"
      ]
     },
     "execution_count": 70,
     "metadata": {},
     "output_type": "execute_result"
    }
   ],
   "source": [
    "df.columns"
   ]
  },
  {
   "cell_type": "code",
   "execution_count": 71,
   "metadata": {},
   "outputs": [
    {
     "name": "stdout",
     "output_type": "stream",
     "text": [
      "Index(['latitude', 'longitude', 'housing_median_age', 'total_rooms',\n",
      "       'total_bedrooms', 'population', 'households', 'median_income',\n",
      "       'ocean_proximity'],\n",
      "      dtype='object')\n",
      "Column 'median_house_value' not found in df_train.\n",
      "Column 'median_house_value' not found in df_test.\n"
     ]
    }
   ],
   "source": [
    "# Step 1: Check the column names\n",
    "print(df_train.columns)\n",
    "\n",
    "# Step 2: Verify that the column exists in the DataFrame\n",
    "if 'median_house_value' in df_train.columns:\n",
    "    # Access the column\n",
    "    y_train = df_train['median_house_value'].values\n",
    "else:\n",
    "    # Print an error message or handle the case where the column is missing\n",
    "    print(\"Column 'median_house_value' not found in df_train.\")\n",
    "\n",
    "# Step 3: Repeat the same check for df_test if necessary\n",
    "if 'median_house_value' in df_test.columns:\n",
    "    # Access the column\n",
    "    y_test = df_test['median_house_value'].values\n",
    "else:\n",
    "    # Print an error message or handle the case where the column is missing\n",
    "    print(\"Column 'median_house_value' not found in df_test.\")\n",
    "\n",
    "# Step 4: Continue with your data processing and modeling code\n",
    "\n",
    "# For example, you can continue with the following code:\n",
    "# Fill missing values with 0 in both X_train and X_test\n",
    "X_train[np.isnan(X_train)] = 0\n",
    "X_test[np.isnan(X_test)] = 0\n",
    "\n"
   ]
  },
  {
   "cell_type": "code",
   "execution_count": 72,
   "metadata": {},
   "outputs": [
    {
     "data": {
      "text/html": [
       "<div>\n",
       "<style scoped>\n",
       "    .dataframe tbody tr th:only-of-type {\n",
       "        vertical-align: middle;\n",
       "    }\n",
       "\n",
       "    .dataframe tbody tr th {\n",
       "        vertical-align: top;\n",
       "    }\n",
       "\n",
       "    .dataframe thead th {\n",
       "        text-align: right;\n",
       "    }\n",
       "</style>\n",
       "<table border=\"1\" class=\"dataframe\">\n",
       "  <thead>\n",
       "    <tr style=\"text-align: right;\">\n",
       "      <th></th>\n",
       "      <th>latitude</th>\n",
       "      <th>longitude</th>\n",
       "      <th>housing_median_age</th>\n",
       "      <th>total_rooms</th>\n",
       "      <th>total_bedrooms</th>\n",
       "      <th>population</th>\n",
       "      <th>households</th>\n",
       "      <th>median_income</th>\n",
       "      <th>ocean_proximity</th>\n",
       "    </tr>\n",
       "  </thead>\n",
       "  <tbody>\n",
       "    <tr>\n",
       "      <th>168</th>\n",
       "      <td>37.79</td>\n",
       "      <td>-122.24</td>\n",
       "      <td>27.0</td>\n",
       "      <td>1632.0</td>\n",
       "      <td>492.0</td>\n",
       "      <td>1171.0</td>\n",
       "      <td>429.0</td>\n",
       "      <td>2.3173</td>\n",
       "      <td>NEAR BAY</td>\n",
       "    </tr>\n",
       "    <tr>\n",
       "      <th>17299</th>\n",
       "      <td>34.40</td>\n",
       "      <td>-119.51</td>\n",
       "      <td>15.0</td>\n",
       "      <td>1112.0</td>\n",
       "      <td>256.0</td>\n",
       "      <td>411.0</td>\n",
       "      <td>245.0</td>\n",
       "      <td>2.0625</td>\n",
       "      <td>NEAR OCEAN</td>\n",
       "    </tr>\n",
       "    <tr>\n",
       "      <th>10347</th>\n",
       "      <td>33.61</td>\n",
       "      <td>-117.66</td>\n",
       "      <td>21.0</td>\n",
       "      <td>1932.0</td>\n",
       "      <td>266.0</td>\n",
       "      <td>860.0</td>\n",
       "      <td>286.0</td>\n",
       "      <td>7.1497</td>\n",
       "      <td>&lt;1H OCEAN</td>\n",
       "    </tr>\n",
       "    <tr>\n",
       "      <th>846</th>\n",
       "      <td>37.58</td>\n",
       "      <td>-122.08</td>\n",
       "      <td>16.0</td>\n",
       "      <td>3349.0</td>\n",
       "      <td>544.0</td>\n",
       "      <td>2003.0</td>\n",
       "      <td>488.0</td>\n",
       "      <td>6.0074</td>\n",
       "      <td>NEAR BAY</td>\n",
       "    </tr>\n",
       "    <tr>\n",
       "      <th>12920</th>\n",
       "      <td>38.66</td>\n",
       "      <td>-121.31</td>\n",
       "      <td>26.0</td>\n",
       "      <td>1604.0</td>\n",
       "      <td>245.0</td>\n",
       "      <td>751.0</td>\n",
       "      <td>267.0</td>\n",
       "      <td>4.7381</td>\n",
       "      <td>INLAND</td>\n",
       "    </tr>\n",
       "  </tbody>\n",
       "</table>\n",
       "</div>"
      ],
      "text/plain": [
       "       latitude  longitude  housing_median_age  total_rooms  total_bedrooms  \\\n",
       "168       37.79    -122.24                27.0       1632.0           492.0   \n",
       "17299     34.40    -119.51                15.0       1112.0           256.0   \n",
       "10347     33.61    -117.66                21.0       1932.0           266.0   \n",
       "846       37.58    -122.08                16.0       3349.0           544.0   \n",
       "12920     38.66    -121.31                26.0       1604.0           245.0   \n",
       "\n",
       "       population  households  median_income ocean_proximity  \n",
       "168        1171.0       429.0         2.3173        NEAR BAY  \n",
       "17299       411.0       245.0         2.0625      NEAR OCEAN  \n",
       "10347       860.0       286.0         7.1497       <1H OCEAN  \n",
       "846        2003.0       488.0         6.0074        NEAR BAY  \n",
       "12920       751.0       267.0         4.7381          INLAND  "
      ]
     },
     "execution_count": 72,
     "metadata": {},
     "output_type": "execute_result"
    }
   ],
   "source": [
    "df_test.head()"
   ]
  },
  {
   "cell_type": "code",
   "execution_count": 73,
   "metadata": {},
   "outputs": [
    {
     "name": "stdout",
     "output_type": "stream",
     "text": [
      "X_train shape: (16512, 8)\n",
      "X_test shape: (4128, 8)\n"
     ]
    }
   ],
   "source": [
    "print(\"X_train shape:\", X_train.shape)\n",
    "print(\"X_test shape:\", X_test.shape)\n"
   ]
  },
  {
   "cell_type": "code",
   "execution_count": 103,
   "metadata": {},
   "outputs": [
    {
     "name": "stdout",
     "output_type": "stream",
     "text": [
      "RMSE on the test dataset: 0.33\n"
     ]
    }
   ],
   "source": [
    "#Question 6\n",
    "import numpy as np\n",
    "import pandas as pd\n",
    "from sklearn.metrics import mean_squared_error\n",
    "\n",
    "# Define the train_linear_regression function as before (please make sure it's defined earlier in your notebook)\n",
    "\n",
    "def prepare_X(df):\n",
    "    df = df.copy()\n",
    "    df['total_bedrooms'].fillna(df['total_bedrooms'].median(), inplace=True)  # Fill missing values\n",
    "    df['population'].fillna(df['population'].median(), inplace=True)  # Fill missing values\n",
    "    df['housing_median_age'].fillna(df['housing_median_age'].median(), inplace=True)  # Fill missing values\n",
    "    df = pd.get_dummies(df, columns=['ocean_proximity'], drop_first=True)  # One-hot encode categorical variable\n",
    "    X = df.drop(columns=['median_house_value']).values  # Remove target variable and get feature matrix\n",
    "    return X\n",
    "\n",
    "# Set a random seed for reproducibility\n",
    "seed = 9\n",
    "\n",
    "# Split the dataset\n",
    "np.random.seed(seed)\n",
    "n = len(df)\n",
    "n_val = int(0.2 * n)\n",
    "n_test = int(0.2 * n)\n",
    "n_train = n - n_val - n_test\n",
    "\n",
    "idx = np.arange(n)\n",
    "np.random.shuffle(idx)\n",
    "\n",
    "df_shuffled = df.iloc[idx]\n",
    "df_train = df_shuffled.iloc[:n_train].copy()\n",
    "df_val = df_shuffled.iloc[n_train:n_train + n_val].copy()\n",
    "df_test = df_shuffled.iloc[n_train + n_val:].copy()\n",
    "\n",
    "# Combine train and validation datasets\n",
    "df_train = pd.concat([df_train, df_val], axis=0)\n",
    "\n",
    "# Ensure that 'median_house_value' column is included in df_train and df_test\n",
    "if 'median_house_value' not in df_train.columns:\n",
    "    raise KeyError(\"Column 'median_house_value' not found in df_train.\")\n",
    "if 'median_house_value' not in df_test.columns:\n",
    "    # Handle the case where 'median_house_value' is not in df_test by adding it with NaN values\n",
    "    df_test['median_house_value'] = np.nan\n",
    "\n",
    "# Prepare feature matrices X_train and X_test\n",
    "X_train = prepare_X(df_train)\n",
    "X_test = prepare_X(df_test)\n",
    "\n",
    "# Fill missing values with 0\n",
    "X_train[np.isnan(X_train)] = 0\n",
    "X_test[np.isnan(X_test)] = 0\n",
    "\n",
    "# Extract the target variable 'median_house_value'\n",
    "y_train = df_train['median_house_value'].values\n",
    "\n",
    "# Train the model with r=0.001\n",
    "w0_final, w_final = train_linear_regression(X_train, np.log1p(y_train), 0.001)\n",
    "\n",
    "# Make predictions on the test dataset\n",
    "y_pred_final = w0_final + X_test.dot(w_final)\n",
    "\n",
    "# Calculate RMSE on the test dataset\n",
    "test_rmse_final = np.sqrt(mean_squared_error(np.log1p(df_test['median_house_value'].values), y_pred_final))\n",
    "test_rmse_final = round(test_rmse_final, 2)\n",
    "\n",
    "print(\"RMSE on the test dataset:\", test_rmse_final)\n",
    "\n",
    "\n",
    "\n",
    "\n",
    "\n",
    "\n",
    "\n",
    "\n",
    "\n",
    "\n",
    "\n",
    "\n",
    "\n",
    "\n"
   ]
  },
  {
   "cell_type": "code",
   "execution_count": null,
   "metadata": {},
   "outputs": [],
   "source": []
  }
 ],
 "metadata": {
  "kernelspec": {
   "display_name": "Python 3",
   "language": "python",
   "name": "python3"
  },
  "language_info": {
   "codemirror_mode": {
    "name": "ipython",
    "version": 3
   },
   "file_extension": ".py",
   "mimetype": "text/x-python",
   "name": "python",
   "nbconvert_exporter": "python",
   "pygments_lexer": "ipython3",
   "version": "3.9.16"
  },
  "orig_nbformat": 4
 },
 "nbformat": 4,
 "nbformat_minor": 2
}
