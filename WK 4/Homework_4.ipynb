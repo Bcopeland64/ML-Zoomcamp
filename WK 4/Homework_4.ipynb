{
 "cells": [
  {
   "cell_type": "markdown",
   "metadata": {},
   "source": [
    "<h1>Data Preparation</h1>"
   ]
  },
  {
   "cell_type": "code",
   "execution_count": 32,
   "metadata": {},
   "outputs": [],
   "source": [
    "import pandas as pd\n",
    "from sklearn.model_selection import train_test_split\n",
    "\n",
    "# Load the dataset\n",
    "url = \"https://raw.githubusercontent.com/alexeygrigorev/mlbookcamp-code/master/chapter-02-car-price/data.csv\"\n",
    "df = pd.read_csv(url)\n",
    "\n",
    "# Keep only the required columns\n",
    "columns = [\"Make\", \"Model\", \"Year\", \"Engine HP\", \"Engine Cylinders\", \"Transmission Type\", \"Vehicle Style\", \"highway MPG\", \"city mpg\", \"MSRP\"]\n",
    "df = df[columns]\n",
    "\n",
    "# Lowercase column names and replace spaces with underscores\n",
    "df.columns = df.columns.str.lower().str.replace(' ', '_')\n",
    "\n",
    "# Fill missing values with 0\n",
    "df = df.fillna(0)\n",
    "\n",
    "# Make the price binary\n",
    "df['above_average'] = (df['msrp'] > df['msrp'].mean()).astype(int)\n",
    "\n",
    "# Split the data into train/validation/test\n",
    "df_full_train, df_test = train_test_split(df, test_size=0.2, random_state=1)\n",
    "df_train, df_val = train_test_split(df_full_train, test_size=0.25, random_state=1)  # 0.25 * 0.8 = 0.2\n"
   ]
  },
  {
   "cell_type": "markdown",
   "metadata": {},
   "source": [
    "<h1>ROC AUC Feature Selection & Importance</h1>"
   ]
  },
  {
   "cell_type": "code",
   "execution_count": 33,
   "metadata": {},
   "outputs": [
    {
     "name": "stdout",
     "output_type": "stream",
     "text": [
      "Question 1: engine_hp has the highest AUC\n"
     ]
    }
   ],
   "source": [
    "from sklearn.metrics import roc_auc_score\n",
    "\n",
    "numerical_vars = [\"engine_hp\", \"engine_cylinders\", \"highway_mpg\", \"city_mpg\"]\n",
    "\n",
    "best_auc = 0\n",
    "best_var = \"\"\n",
    "\n",
    "for var in numerical_vars:\n",
    "    auc = roc_auc_score(df_train['above_average'], df_train[var])\n",
    "    if auc < 0.5:\n",
    "        auc = roc_auc_score(df_train['above_average'], -df_train[var])\n",
    "\n",
    "    if auc > best_auc:\n",
    "        best_auc = auc\n",
    "        best_var = var\n",
    "\n",
    "print(f\"Question 1: {best_var} has the highest AUC\")\n"
   ]
  },
  {
   "cell_type": "markdown",
   "metadata": {},
   "source": [
    "<h1>Model Training</hq>"
   ]
  },
  {
   "cell_type": "code",
   "execution_count": 34,
   "metadata": {},
   "outputs": [
    {
     "name": "stdout",
     "output_type": "stream",
     "text": [
      "Question 2: AUC on the validation dataset is 1.000\n"
     ]
    }
   ],
   "source": [
    "from sklearn.feature_extraction import DictVectorizer\n",
    "from sklearn.linear_model import LogisticRegression\n",
    "\n",
    "dv = DictVectorizer(sparse=False)\n",
    "\n",
    "train_dict = df_train[numerical_vars + [\"above_average\"]].to_dict(orient='records')\n",
    "X_train = dv.fit_transform(train_dict)\n",
    "y_train = df_train['above_average']\n",
    "\n",
    "val_dict = df_val[numerical_vars + [\"above_average\"]].to_dict(orient='records')\n",
    "X_val = dv.transform(val_dict)\n",
    "y_val = df_val['above_average']\n",
    "\n",
    "model = LogisticRegression(solver='liblinear', C=1.0, max_iter=1000)\n",
    "model.fit(X_train, y_train)\n",
    "\n",
    "y_pred = model.predict_proba(X_val)[:, 1]\n",
    "auc = roc_auc_score(y_val, y_pred)\n",
    "print(f\"Question 2: AUC on the validation dataset is {auc:.3f}\")\n"
   ]
  },
  {
   "cell_type": "markdown",
   "metadata": {},
   "source": [
    "<h1>Precision & Recall</h1>"
   ]
  },
  {
   "cell_type": "code",
   "execution_count": 39,
   "metadata": {},
   "outputs": [
    {
     "data": {
      "image/png": "[encoded data removed]",
      "text/plain": [
       "<Figure size 640x480 with 1 Axes>"
      ]
     },
     "metadata": {},
     "output_type": "display_data"
    },
    {
     "name": "stdout",
     "output_type": "stream",
     "text": [
      "Question 3: Precision and recall curves intersect at threshold 0.40\n"
     ]
    }
   ],
   "source": [
    "from sklearn.metrics import precision_recall_curve\n",
    "\n",
    "precisions, recalls, thresholds = precision_recall_curve(y_val, y_pred)\n",
    "\n",
    "intersection_threshold = thresholds[np.argmax(precisions >= recalls)]\n",
    "\n",
    "#Plot the precision-recall curve on all thresholds\n",
    "\n",
    "import matplotlib.pyplot as plt\n",
    "\n",
    "plt.plot(thresholds, precisions[:-1], label='precision')\n",
    "plt.plot(thresholds, recalls[:-1], label='recall')\n",
    "plt.legend()\n",
    "plt.show()\n",
    "\n",
    "print(f\"Question 3: Precision and recall curves intersect at threshold {intersection_threshold:.2f}\")\n"
   ]
  },
  {
   "cell_type": "markdown",
   "metadata": {},
   "source": [
    "<h1>F1 Score</h1>"
   ]
  },
  {
   "cell_type": "code",
   "execution_count": 36,
   "metadata": {},
   "outputs": [
    {
     "name": "stdout",
     "output_type": "stream",
     "text": [
      "Question 4: F1 is maximal at threshold 0.84\n"
     ]
    }
   ],
   "source": [
    "from sklearn.metrics import f1_score\n",
    "\n",
    "f1_scores = [f1_score(y_val, y_pred >= threshold) for threshold in thresholds]\n",
    "\n",
    "max_f1_threshold = thresholds[np.argmax(f1_scores)]\n",
    "print(f\"Question 4: F1 is maximal at threshold {max_f1_threshold:.2f}\")\n"
   ]
  },
  {
   "cell_type": "markdown",
   "metadata": {},
   "source": [
    "<h1>Cross Validation</h1>"
   ]
  },
  {
   "cell_type": "code",
   "execution_count": 37,
   "metadata": {},
   "outputs": [
    {
     "name": "stdout",
     "output_type": "stream",
     "text": [
      "Question 5: Standard deviation of scores across different folds is 0.003\n",
      "Question 6: Best C is 10, Mean score is 0.932, Std deviation is 0.003\n"
     ]
    }
   ],
   "source": [
    "from sklearn.model_selection import KFold\n",
    "import numpy as np\n",
    "\n",
    "kf = KFold(n_splits=5, shuffle=True, random_state=1)\n",
    "scores = []\n",
    "\n",
    "for train_idx, val_idx in kf.split(df_full_train):\n",
    "    train_data, val_data = df_full_train.iloc[train_idx], df_full_train.iloc[val_idx]\n",
    "\n",
    "    X_train = dv.transform(train_data[numerical_vars].to_dict(orient='records'))\n",
    "    y_train = train_data['above_average']\n",
    "\n",
    "    X_val = dv.transform(val_data[numerical_vars].to_dict(orient='records'))\n",
    "    y_val = val_data['above_average']\n",
    "\n",
    "    model.fit(X_train, y_train)\n",
    "    y_pred = model.predict_proba(X_val)[:, 1]\n",
    "    auc = roc_auc_score(y_val, y_pred)\n",
    "    scores.append(auc)\n",
    "\n",
    "std_dev = np.std(scores)\n",
    "print(f\"Question 5: Standard deviation of scores across different folds is {std_dev:.3f}\")\n",
    "\n",
    "# Hyperparameter Tuning\n",
    "C_values = [0.01, 0.1, 0.5, 10]\n",
    "mean_scores = []\n",
    "\n",
    "for C in C_values:\n",
    "    scores = []\n",
    "    model = LogisticRegression(solver='liblinear', C=C, max_iter=1000)\n",
    "\n",
    "    for train_idx, val_idx in kf.split(df_full_train):\n",
    "        train_data, val_data = df_full_train.iloc[train_idx], df_full_train.iloc[val_idx]\n",
    "\n",
    "        X_train = dv.transform(train_data[numerical_vars].to_dict(orient='records'))\n",
    "        y_train = train_data['above_average']\n",
    "\n",
    "        X_val = dv.transform(val_data[numerical_vars].to_dict(orient='records'))\n",
    "        y_val = val_data['above_average']\n",
    "\n",
    "        model.fit(X_train, y_train)\n",
    "        y_pred = model.predict_proba(X_val)[:, 1]\n",
    "        auc = roc_auc_score(y_val, y_pred)\n",
    "        scores.append(auc)\n",
    "\n",
    "    mean_score = np.mean(scores)\n",
    "    mean_scores.append(mean_score)\n",
    "\n",
    "best_C_idx = np.argmax(mean_scores)\n",
    "best_C = C_values[best_C_idx]\n",
    "std_dev_best_C = np.std(scores)\n",
    "print(f\"Question 6: Best C is {best_C}, Mean score is {mean_scores[best_C_idx]:.3f}, Std deviation is {std_dev_best_C:.3f}\")\n"
   ]
  },
  {
   "cell_type": "code",
   "execution_count": null,
   "metadata": {},
   "outputs": [],
   "source": []
  }
 ],
 "metadata": {
  "kernelspec": {
   "display_name": "base",
   "language": "python",
   "name": "python3"
  },
  "language_info": {
   "codemirror_mode": {
    "name": "ipython",
    "version": 3
   },
   "file_extension": ".py",
   "mimetype": "text/x-python",
   "name": "python",
   "nbconvert_exporter": "python",
   "pygments_lexer": "ipython3",
   "version": "3.9.16"
  }
 },
 "nbformat": 4,
 "nbformat_minor": 2
}
