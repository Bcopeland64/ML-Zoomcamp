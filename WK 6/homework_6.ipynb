{
 "cells": [
  {
   "cell_type": "code",
   "execution_count": 2,
   "metadata": {},
   "outputs": [],
   "source": [
    "import pandas as pd\n",
    "import numpy as np\n",
    "from sklearn.model_selection import train_test_split\n",
    "from sklearn.feature_extraction import DictVectorizer\n",
    "from sklearn.tree import DecisionTreeRegressor\n",
    "from sklearn.ensemble import RandomForestRegressor\n",
    "from sklearn.metrics import mean_squared_error\n",
    "import xgboost as xgb\n",
    "\n",
    "# Load the dataset\n",
    "url = \"https://raw.githubusercontent.com/alexeygrigorev/datasets/master/housing.csv\"\n",
    "df = pd.read_csv(url)\n",
    "\n",
    "# Keep only the records where ocean_proximity is either '<1H OCEAN' or 'INLAND'\n",
    "df = df[df['ocean_proximity'].isin(['<1H OCEAN', 'INLAND'])]\n",
    "\n",
    "# Fill missing values with zeros\n",
    "df.fillna(0, inplace=True)\n",
    "\n",
    "# Apply the log transform to median_house_value\n",
    "df['median_house_value'] = df['median_house_value'].apply(lambda x: 0 if x == 0 else np.log(x))\n",
    "\n",
    "# Train/validation/test split with 60%/20%/20% distribution\n",
    "train, test = train_test_split(df, test_size=0.4, random_state=1)\n",
    "val, test = train_test_split(test, test_size=0.5, random_state=1)\n",
    "\n",
    "# Separate features and target variable\n",
    "X_train, y_train = train.drop('median_house_value', axis=1), train['median_house_value']\n",
    "X_val, y_val = val.drop('median_house_value', axis=1), val['median_house_value']\n",
    "X_test, y_test = test.drop('median_house_value', axis=1), test['median_house_value']\n",
    "\n",
    "# Use DictVectorizer(sparse=True) to turn the dataframes into matrices\n",
    "dv = DictVectorizer(sparse=True)\n",
    "X_train_encoded = dv.fit_transform(X_train.to_dict(orient='records'))\n",
    "X_val_encoded = dv.transform(X_val.to_dict(orient='records'))\n",
    "X_test_encoded = dv.transform(X_test.to_dict(orient='records'))\n"
   ]
  },
  {
   "cell_type": "markdown",
   "metadata": {},
   "source": [
    "<h1>Question 1</h1>"
   ]
  },
  {
   "cell_type": "code",
   "execution_count": 3,
   "metadata": {},
   "outputs": [
    {
     "name": "stdout",
     "output_type": "stream",
     "text": [
      "ocean_proximity=INLAND\n"
     ]
    }
   ],
   "source": [
    "# Train a model with max_depth=1\n",
    "dt = DecisionTreeRegressor(max_depth=1, random_state=1)\n",
    "dt.fit(X_train_encoded, y_train)\n",
    "\n",
    "# Print the feature used for splitting\n",
    "print(dv.get_feature_names_out()[dt.tree_.feature[0]])\n"
   ]
  },
  {
   "cell_type": "markdown",
   "metadata": {},
   "source": [
    "<h1>Question 2</h1>"
   ]
  },
  {
   "cell_type": "code",
   "execution_count": 4,
   "metadata": {},
   "outputs": [
    {
     "name": "stdout",
     "output_type": "stream",
     "text": [
      "RMSE on validation set: 0.23485107722274248\n"
     ]
    }
   ],
   "source": [
    "# Train a random forest model\n",
    "rf = RandomForestRegressor(n_estimators=10, random_state=1, n_jobs=-1)\n",
    "rf.fit(X_train_encoded, y_train)\n",
    "\n",
    "# Predict on validation set\n",
    "y_val_pred = rf.predict(X_val_encoded)\n",
    "\n",
    "# Calculate RMSE\n",
    "rmse_val = mean_squared_error(y_val, y_val_pred, squared=False)\n",
    "print(\"RMSE on validation set:\", rmse_val)\n"
   ]
  },
  {
   "cell_type": "markdown",
   "metadata": {},
   "source": [
    "<h1>Question 3</h1>"
   ]
  },
  {
   "cell_type": "code",
   "execution_count": 5,
   "metadata": {},
   "outputs": [
    {
     "name": "stdout",
     "output_type": "stream",
     "text": [
      "n_estimators: 10, RMSE on validation set: 0.23485107722274248\n",
      "n_estimators: 20, RMSE on validation set: 0.22615301966217238\n",
      "n_estimators: 30, RMSE on validation set: 0.22362689281185794\n",
      "n_estimators: 40, RMSE on validation set: 0.22311566278809997\n",
      "n_estimators: 50, RMSE on validation set: 0.2211582673155134\n",
      "n_estimators: 60, RMSE on validation set: 0.22108969380899765\n",
      "n_estimators: 70, RMSE on validation set: 0.22082077989874652\n",
      "n_estimators: 80, RMSE on validation set: 0.2205334639808659\n",
      "n_estimators: 90, RMSE on validation set: 0.22097831679278654\n"
     ]
    }
   ],
   "source": [
    "# Experiment with n_estimators parameter\n",
    "for n_estimators in range(10, 201, 10):\n",
    "    rf = RandomForestRegressor(n_estimators=n_estimators, random_state=1, n_jobs=-1)\n",
    "    rf.fit(X_train_encoded, y_train)\n",
    "    y_val_pred = rf.predict(X_val_encoded)\n",
    "    rmse_val = mean_squared_error(y_val, y_val_pred, squared=False)\n",
    "    \n",
    "    print(f\"n_estimators: {n_estimators}, RMSE on validation set: {rmse_val}\")\n",
    "    if n_estimators > 10 and rmse_val >= rmse_prev:\n",
    "        break  # Stop when RMSE stops improving\n",
    "    rmse_prev = rmse_val\n"
   ]
  },
  {
   "cell_type": "markdown",
   "metadata": {},
   "source": [
    "<h1>Question 4</h1>"
   ]
  },
  {
   "cell_type": "code",
   "execution_count": 6,
   "metadata": {},
   "outputs": [
    {
     "name": "stdout",
     "output_type": "stream",
     "text": [
      "max_depth: 10, n_estimators: 10, RMSE on validation set: 0.24133680565525462\n",
      "max_depth: 10, n_estimators: 20, RMSE on validation set: 0.2368719550416235\n",
      "max_depth: 10, n_estimators: 30, RMSE on validation set: 0.23434639388512057\n",
      "max_depth: 10, n_estimators: 40, RMSE on validation set: 0.23394673037431934\n",
      "max_depth: 10, n_estimators: 50, RMSE on validation set: 0.23283427818772456\n",
      "max_depth: 10, n_estimators: 60, RMSE on validation set: 0.23317542397678728\n",
      "max_depth: 10, n_estimators: 70, RMSE on validation set: 0.23287287981908927\n",
      "max_depth: 10, n_estimators: 80, RMSE on validation set: 0.23239224280008214\n",
      "max_depth: 10, n_estimators: 90, RMSE on validation set: 0.23239765537966434\n",
      "max_depth: 10, n_estimators: 100, RMSE on validation set: 0.23221206605089234\n",
      "max_depth: 10, n_estimators: 110, RMSE on validation set: 0.23174186245592757\n",
      "max_depth: 10, n_estimators: 120, RMSE on validation set: 0.23177853273281301\n",
      "max_depth: 10, n_estimators: 130, RMSE on validation set: 0.2316423212636977\n",
      "max_depth: 10, n_estimators: 140, RMSE on validation set: 0.2315355467860815\n",
      "max_depth: 10, n_estimators: 150, RMSE on validation set: 0.23163719920270043\n",
      "max_depth: 10, n_estimators: 160, RMSE on validation set: 0.2315767396752186\n",
      "max_depth: 10, n_estimators: 170, RMSE on validation set: 0.23154689719620852\n",
      "max_depth: 10, n_estimators: 180, RMSE on validation set: 0.23173979376413534\n",
      "max_depth: 10, n_estimators: 190, RMSE on validation set: 0.2316245383155572\n",
      "max_depth: 10, n_estimators: 200, RMSE on validation set: 0.23157654199719138\n",
      "max_depth: 15, n_estimators: 10, RMSE on validation set: 0.23557079363694755\n",
      "max_depth: 15, n_estimators: 20, RMSE on validation set: 0.2271747798097349\n",
      "max_depth: 15, n_estimators: 30, RMSE on validation set: 0.22483969571356907\n",
      "max_depth: 15, n_estimators: 40, RMSE on validation set: 0.22458554846852327\n",
      "max_depth: 15, n_estimators: 50, RMSE on validation set: 0.22272333701633293\n",
      "max_depth: 15, n_estimators: 60, RMSE on validation set: 0.22265529817123875\n",
      "max_depth: 15, n_estimators: 70, RMSE on validation set: 0.22233935287113574\n",
      "max_depth: 15, n_estimators: 80, RMSE on validation set: 0.22216697699912621\n",
      "max_depth: 15, n_estimators: 90, RMSE on validation set: 0.22238830868653797\n",
      "max_depth: 15, n_estimators: 100, RMSE on validation set: 0.22206396385804125\n",
      "max_depth: 15, n_estimators: 110, RMSE on validation set: 0.22173129162152483\n",
      "max_depth: 15, n_estimators: 120, RMSE on validation set: 0.2217338178394909\n",
      "max_depth: 15, n_estimators: 130, RMSE on validation set: 0.22156026922594155\n",
      "max_depth: 15, n_estimators: 140, RMSE on validation set: 0.22143524365151226\n",
      "max_depth: 15, n_estimators: 150, RMSE on validation set: 0.2213824868928416\n",
      "max_depth: 15, n_estimators: 160, RMSE on validation set: 0.22135954163148763\n",
      "max_depth: 15, n_estimators: 170, RMSE on validation set: 0.22135834952512987\n",
      "max_depth: 15, n_estimators: 180, RMSE on validation set: 0.2215612412871956\n",
      "max_depth: 15, n_estimators: 190, RMSE on validation set: 0.22153680244541202\n",
      "max_depth: 15, n_estimators: 200, RMSE on validation set: 0.22142143769512815\n",
      "max_depth: 20, n_estimators: 10, RMSE on validation set: 0.23494131193787476\n",
      "max_depth: 20, n_estimators: 20, RMSE on validation set: 0.22653061969025237\n",
      "max_depth: 20, n_estimators: 30, RMSE on validation set: 0.22404593952760266\n",
      "max_depth: 20, n_estimators: 40, RMSE on validation set: 0.22325636102296487\n",
      "max_depth: 20, n_estimators: 50, RMSE on validation set: 0.22158436532945414\n",
      "max_depth: 20, n_estimators: 60, RMSE on validation set: 0.22153966967748223\n",
      "max_depth: 20, n_estimators: 70, RMSE on validation set: 0.2212757220348242\n",
      "max_depth: 20, n_estimators: 80, RMSE on validation set: 0.22088480551607925\n",
      "max_depth: 20, n_estimators: 90, RMSE on validation set: 0.22131618953219143\n",
      "max_depth: 20, n_estimators: 100, RMSE on validation set: 0.2209400088799182\n",
      "max_depth: 20, n_estimators: 110, RMSE on validation set: 0.22062439465517275\n",
      "max_depth: 20, n_estimators: 120, RMSE on validation set: 0.22062245482206713\n",
      "max_depth: 20, n_estimators: 130, RMSE on validation set: 0.2203973687264272\n",
      "max_depth: 20, n_estimators: 140, RMSE on validation set: 0.2203175018719707\n",
      "max_depth: 20, n_estimators: 150, RMSE on validation set: 0.22023206252946498\n",
      "max_depth: 20, n_estimators: 160, RMSE on validation set: 0.22021963446621673\n",
      "max_depth: 20, n_estimators: 170, RMSE on validation set: 0.22019589326883676\n",
      "max_depth: 20, n_estimators: 180, RMSE on validation set: 0.2204366558791165\n",
      "max_depth: 20, n_estimators: 190, RMSE on validation set: 0.22042548590005623\n",
      "max_depth: 20, n_estimators: 200, RMSE on validation set: 0.22034922734953338\n",
      "max_depth: 25, n_estimators: 10, RMSE on validation set: 0.234439746745483\n",
      "max_depth: 25, n_estimators: 20, RMSE on validation set: 0.2259304597119442\n",
      "max_depth: 25, n_estimators: 30, RMSE on validation set: 0.22306139698323735\n",
      "max_depth: 25, n_estimators: 40, RMSE on validation set: 0.22308119669869197\n",
      "max_depth: 25, n_estimators: 50, RMSE on validation set: 0.22141626885460225\n",
      "max_depth: 25, n_estimators: 60, RMSE on validation set: 0.22144322166580052\n",
      "max_depth: 25, n_estimators: 70, RMSE on validation set: 0.22120177608326355\n",
      "max_depth: 25, n_estimators: 80, RMSE on validation set: 0.22070682978411976\n",
      "max_depth: 25, n_estimators: 90, RMSE on validation set: 0.22115189970337118\n",
      "max_depth: 25, n_estimators: 100, RMSE on validation set: 0.22077549023812207\n",
      "max_depth: 25, n_estimators: 110, RMSE on validation set: 0.2203792074057458\n",
      "max_depth: 25, n_estimators: 120, RMSE on validation set: 0.22038450314307045\n",
      "max_depth: 25, n_estimators: 130, RMSE on validation set: 0.2201271242952502\n",
      "max_depth: 25, n_estimators: 140, RMSE on validation set: 0.2200184888866223\n",
      "max_depth: 25, n_estimators: 150, RMSE on validation set: 0.22001633810086169\n",
      "max_depth: 25, n_estimators: 160, RMSE on validation set: 0.21999627125882143\n",
      "max_depth: 25, n_estimators: 170, RMSE on validation set: 0.2199919541672526\n",
      "max_depth: 25, n_estimators: 180, RMSE on validation set: 0.220241305585817\n",
      "max_depth: 25, n_estimators: 190, RMSE on validation set: 0.22023326433147947\n",
      "max_depth: 25, n_estimators: 200, RMSE on validation set: 0.22011167025785763\n",
      "Best max_depth: 25, Best n_estimators: 170, Best RMSE: 0.2199919541672526\n"
     ]
    }
   ],
   "source": [
    "best_rmse = float('inf')\n",
    "best_max_depth = None\n",
    "best_n_estimators = None\n",
    "\n",
    "for max_depth in [10, 15, 20, 25]:\n",
    "    for n_estimators in range(10, 201, 10):\n",
    "        rf = RandomForestRegressor(n_estimators=n_estimators, max_depth=max_depth, random_state=1, n_jobs=-1)\n",
    "        rf.fit(X_train_encoded, y_train)\n",
    "        y_val_pred = rf.predict(X_val_encoded)\n",
    "        rmse_val = mean_squared_error(y_val, y_val_pred, squared=False)\n",
    "\n",
    "        print(f\"max_depth: {max_depth}, n_estimators: {n_estimators}, RMSE on validation set: {rmse_val}\")\n",
    "\n",
    "        if rmse_val < best_rmse:\n",
    "            best_rmse = rmse_val\n",
    "            best_max_depth = max_depth\n",
    "            best_n_estimators = n_estimators\n",
    "\n",
    "print(f\"Best max_depth: {best_max_depth}, Best n_estimators: {best_n_estimators}, Best RMSE: {best_rmse}\")\n"
   ]
  },
  {
   "cell_type": "markdown",
   "metadata": {},
   "source": [
    "<h1>Question 5</h1>"
   ]
  },
  {
   "cell_type": "code",
   "execution_count": 7,
   "metadata": {},
   "outputs": [
    {
     "name": "stdout",
     "output_type": "stream",
     "text": [
      "Most Important Feature: median_income\n"
     ]
    }
   ],
   "source": [
    "# Train the model with specified parameters\n",
    "rf = RandomForestRegressor(n_estimators=10, max_depth=20, random_state=1, n_jobs=-1)\n",
    "rf.fit(X_train_encoded, y_train)\n",
    "\n",
    "# Get feature importance information\n",
    "feature_importance = pd.Series(rf.feature_importances_, index=dv.get_feature_names_out())\n",
    "\n",
    "# Print the most important feature\n",
    "print(\"Most Important Feature:\", feature_importance.idxmax())\n"
   ]
  },
  {
   "cell_type": "markdown",
   "metadata": {},
   "source": [
    "<h1>Question 6</h1>"
   ]
  },
  {
   "cell_type": "code",
   "execution_count": 8,
   "metadata": {},
   "outputs": [
    {
     "name": "stdout",
     "output_type": "stream",
     "text": [
      "eta: 0.3, RMSE on validation set: 0.2167682140766952\n",
      "eta: 0.1, RMSE on validation set: 0.21898674893657916\n"
     ]
    }
   ],
   "source": [
    "# Create DMatrix for train and validation\n",
    "dtrain = xgb.DMatrix(X_train_encoded, label=y_train)\n",
    "dval = xgb.DMatrix(X_val_encoded, label=y_val)\n",
    "\n",
    "# Create a watchlist\n",
    "watchlist = [(dtrain, 'train'), (dval, 'eval')]\n",
    "\n",
    "# Train a model with different values of eta\n",
    "etas = [0.3, 0.1]\n",
    "\n",
    "for eta in etas:\n",
    "    xgb_params = {\n",
    "        'eta': eta,\n",
    "        'max_depth': 6,\n",
    "        'min_child_weight': 1,\n",
    "        'objective': 'reg:squarederror',\n",
    "        'nthread': 8,\n",
    "        'seed': 1,\n",
    "        'verbosity': 1,\n",
    "    }\n",
    "\n",
    "    model = xgb.train(xgb_params, dtrain, num_boost_round=100, evals=watchlist, early_stopping_rounds=10, verbose_eval=False)\n",
    "    y_val_pred = model.predict(dval)\n",
    "    rmse_val = mean_squared_error(y_val, y_val_pred, squared=False)\n",
    "\n",
    "    print(f\"eta: {eta}, RMSE on validation set: {rmse_val}\")\n",
    "\n",
    "# The best eta is the one that leads to the lowest RMSE on the validation set\n"
   ]
  }
 ],
 "metadata": {
  "kernelspec": {
   "display_name": "base",
   "language": "python",
   "name": "python3"
  },
  "language_info": {
   "codemirror_mode": {
    "name": "ipython",
    "version": 3
   },
   "file_extension": ".py",
   "mimetype": "text/x-python",
   "name": "python",
   "nbconvert_exporter": "python",
   "pygments_lexer": "ipython3",
   "version": "3.9.16"
  }
 },
 "nbformat": 4,
 "nbformat_minor": 2
}
